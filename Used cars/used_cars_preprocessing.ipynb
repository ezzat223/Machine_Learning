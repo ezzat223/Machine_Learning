{
 "cells": [
  {
   "cell_type": "markdown",
   "id": "73ffa2fe",
   "metadata": {},
   "source": [
    "# Toolkit"
   ]
  },
  {
   "cell_type": "code",
   "execution_count": 1,
   "id": "ad5f59bb",
   "metadata": {},
   "outputs": [],
   "source": [
    "import pandas as pd"
   ]
  },
  {
   "cell_type": "markdown",
   "id": "8c826afb",
   "metadata": {},
   "source": [
    "# Import and Inspect Data"
   ]
  },
  {
   "cell_type": "code",
   "execution_count": 2,
   "id": "b435729a",
   "metadata": {},
   "outputs": [
    {
     "data": {
      "text/html": [
       "<div>\n",
       "<style scoped>\n",
       "    .dataframe tbody tr th:only-of-type {\n",
       "        vertical-align: middle;\n",
       "    }\n",
       "\n",
       "    .dataframe tbody tr th {\n",
       "        vertical-align: top;\n",
       "    }\n",
       "\n",
       "    .dataframe thead th {\n",
       "        text-align: right;\n",
       "    }\n",
       "</style>\n",
       "<table border=\"1\" class=\"dataframe\">\n",
       "  <thead>\n",
       "    <tr style=\"text-align: right;\">\n",
       "      <th></th>\n",
       "      <th>Name</th>\n",
       "      <th>Location</th>\n",
       "      <th>Year</th>\n",
       "      <th>Kilometers_Driven</th>\n",
       "      <th>Fuel_Type</th>\n",
       "      <th>Transmission</th>\n",
       "      <th>Owner_Type</th>\n",
       "      <th>Mileage</th>\n",
       "      <th>Engine</th>\n",
       "      <th>Power</th>\n",
       "      <th>Seats</th>\n",
       "      <th>New_Price</th>\n",
       "      <th>Price</th>\n",
       "    </tr>\n",
       "  </thead>\n",
       "  <tbody>\n",
       "    <tr>\n",
       "      <th>0</th>\n",
       "      <td>Maruti Wagon R LXI CNG</td>\n",
       "      <td>Mumbai</td>\n",
       "      <td>2010</td>\n",
       "      <td>72000</td>\n",
       "      <td>CNG</td>\n",
       "      <td>Manual</td>\n",
       "      <td>First</td>\n",
       "      <td>26.6 km/kg</td>\n",
       "      <td>998 CC</td>\n",
       "      <td>58.16 bhp</td>\n",
       "      <td>5.0</td>\n",
       "      <td>NaN</td>\n",
       "      <td>1.75</td>\n",
       "    </tr>\n",
       "    <tr>\n",
       "      <th>1</th>\n",
       "      <td>Hyundai Creta 1.6 CRDi SX Option</td>\n",
       "      <td>Pune</td>\n",
       "      <td>2015</td>\n",
       "      <td>41000</td>\n",
       "      <td>Diesel</td>\n",
       "      <td>Manual</td>\n",
       "      <td>First</td>\n",
       "      <td>19.67 kmpl</td>\n",
       "      <td>1582 CC</td>\n",
       "      <td>126.2 bhp</td>\n",
       "      <td>5.0</td>\n",
       "      <td>NaN</td>\n",
       "      <td>12.50</td>\n",
       "    </tr>\n",
       "    <tr>\n",
       "      <th>2</th>\n",
       "      <td>Honda Jazz V</td>\n",
       "      <td>Chennai</td>\n",
       "      <td>2011</td>\n",
       "      <td>46000</td>\n",
       "      <td>Petrol</td>\n",
       "      <td>Manual</td>\n",
       "      <td>First</td>\n",
       "      <td>18.2 kmpl</td>\n",
       "      <td>1199 CC</td>\n",
       "      <td>88.7 bhp</td>\n",
       "      <td>5.0</td>\n",
       "      <td>8.61 Lakh</td>\n",
       "      <td>4.50</td>\n",
       "    </tr>\n",
       "    <tr>\n",
       "      <th>3</th>\n",
       "      <td>Maruti Ertiga VDI</td>\n",
       "      <td>Chennai</td>\n",
       "      <td>2012</td>\n",
       "      <td>87000</td>\n",
       "      <td>Diesel</td>\n",
       "      <td>Manual</td>\n",
       "      <td>First</td>\n",
       "      <td>20.77 kmpl</td>\n",
       "      <td>1248 CC</td>\n",
       "      <td>88.76 bhp</td>\n",
       "      <td>7.0</td>\n",
       "      <td>NaN</td>\n",
       "      <td>6.00</td>\n",
       "    </tr>\n",
       "    <tr>\n",
       "      <th>4</th>\n",
       "      <td>Audi A4 New 2.0 TDI Multitronic</td>\n",
       "      <td>Coimbatore</td>\n",
       "      <td>2013</td>\n",
       "      <td>40670</td>\n",
       "      <td>Diesel</td>\n",
       "      <td>Automatic</td>\n",
       "      <td>Second</td>\n",
       "      <td>15.2 kmpl</td>\n",
       "      <td>1968 CC</td>\n",
       "      <td>140.8 bhp</td>\n",
       "      <td>5.0</td>\n",
       "      <td>NaN</td>\n",
       "      <td>17.74</td>\n",
       "    </tr>\n",
       "  </tbody>\n",
       "</table>\n",
       "</div>"
      ],
      "text/plain": [
       "                               Name    Location  Year  Kilometers_Driven  \\\n",
       "0            Maruti Wagon R LXI CNG      Mumbai  2010              72000   \n",
       "1  Hyundai Creta 1.6 CRDi SX Option        Pune  2015              41000   \n",
       "2                      Honda Jazz V     Chennai  2011              46000   \n",
       "3                 Maruti Ertiga VDI     Chennai  2012              87000   \n",
       "4   Audi A4 New 2.0 TDI Multitronic  Coimbatore  2013              40670   \n",
       "\n",
       "  Fuel_Type Transmission Owner_Type     Mileage   Engine      Power  Seats  \\\n",
       "0       CNG       Manual      First  26.6 km/kg   998 CC  58.16 bhp    5.0   \n",
       "1    Diesel       Manual      First  19.67 kmpl  1582 CC  126.2 bhp    5.0   \n",
       "2    Petrol       Manual      First   18.2 kmpl  1199 CC   88.7 bhp    5.0   \n",
       "3    Diesel       Manual      First  20.77 kmpl  1248 CC  88.76 bhp    7.0   \n",
       "4    Diesel    Automatic     Second   15.2 kmpl  1968 CC  140.8 bhp    5.0   \n",
       "\n",
       "   New_Price  Price  \n",
       "0        NaN   1.75  \n",
       "1        NaN  12.50  \n",
       "2  8.61 Lakh   4.50  \n",
       "3        NaN   6.00  \n",
       "4        NaN  17.74  "
      ]
     },
     "execution_count": 2,
     "metadata": {},
     "output_type": "execute_result"
    }
   ],
   "source": [
    "df = pd.read_csv(r'Data/train.csv')\n",
    "df.head()"
   ]
  },
  {
   "cell_type": "code",
   "execution_count": 3,
   "id": "2d9a2faa",
   "metadata": {},
   "outputs": [
    {
     "name": "stdout",
     "output_type": "stream",
     "text": [
      "<class 'pandas.core.frame.DataFrame'>\n",
      "RangeIndex: 6019 entries, 0 to 6018\n",
      "Data columns (total 13 columns):\n",
      " #   Column             Non-Null Count  Dtype  \n",
      "---  ------             --------------  -----  \n",
      " 0   Name               6019 non-null   object \n",
      " 1   Location           6019 non-null   object \n",
      " 2   Year               6019 non-null   int64  \n",
      " 3   Kilometers_Driven  6019 non-null   int64  \n",
      " 4   Fuel_Type          6019 non-null   object \n",
      " 5   Transmission       6019 non-null   object \n",
      " 6   Owner_Type         6019 non-null   object \n",
      " 7   Mileage            6017 non-null   object \n",
      " 8   Engine             5983 non-null   object \n",
      " 9   Power              5983 non-null   object \n",
      " 10  Seats              5977 non-null   float64\n",
      " 11  New_Price          824 non-null    object \n",
      " 12  Price              6019 non-null   float64\n",
      "dtypes: float64(2), int64(2), object(9)\n",
      "memory usage: 611.4+ KB\n"
     ]
    }
   ],
   "source": [
    "df.info()"
   ]
  },
  {
   "cell_type": "markdown",
   "id": "9120f39e",
   "metadata": {},
   "source": [
    "# Preprocessing"
   ]
  },
  {
   "cell_type": "markdown",
   "id": "b55f52de",
   "metadata": {},
   "source": [
    "### Duplicates"
   ]
  },
  {
   "cell_type": "code",
   "execution_count": 4,
   "id": "0e02b68b",
   "metadata": {},
   "outputs": [
    {
     "data": {
      "text/plain": [
       "0"
      ]
     },
     "execution_count": 4,
     "metadata": {},
     "output_type": "execute_result"
    }
   ],
   "source": [
    "df.duplicated().sum()"
   ]
  },
  {
   "cell_type": "markdown",
   "id": "e2f268a9",
   "metadata": {},
   "source": [
    "### Nulls"
   ]
  },
  {
   "cell_type": "code",
   "execution_count": 5,
   "id": "43bf3313",
   "metadata": {},
   "outputs": [
    {
     "data": {
      "text/plain": [
       "Name                  0.000000\n",
       "Location              0.000000\n",
       "Year                  0.000000\n",
       "Kilometers_Driven     0.000000\n",
       "Fuel_Type             0.000000\n",
       "Transmission          0.000000\n",
       "Owner_Type            0.000000\n",
       "Mileage               0.033228\n",
       "Engine                0.598106\n",
       "Power                 0.598106\n",
       "Seats                 0.697790\n",
       "New_Price            86.310018\n",
       "Price                 0.000000\n",
       "dtype: float64"
      ]
     },
     "execution_count": 5,
     "metadata": {},
     "output_type": "execute_result"
    }
   ],
   "source": [
    "(df.isnull().sum()/df.shape[0])*100"
   ]
  },
  {
   "cell_type": "code",
   "execution_count": 6,
   "id": "a4bb12e5",
   "metadata": {},
   "outputs": [],
   "source": [
    "# more than 80%\n",
    "df.drop('New_Price', axis=1, inplace=True)\n",
    "df.reset_index(drop=True, inplace=True)"
   ]
  },
  {
   "cell_type": "code",
   "execution_count": 7,
   "id": "fd413227",
   "metadata": {},
   "outputs": [],
   "source": [
    "# others are less than 1% so drop\n",
    "df.dropna(axis=0, inplace=True)"
   ]
  },
  {
   "cell_type": "code",
   "execution_count": 8,
   "id": "4eacd6bf",
   "metadata": {},
   "outputs": [
    {
     "data": {
      "text/plain": [
       "Name                 0\n",
       "Location             0\n",
       "Year                 0\n",
       "Kilometers_Driven    0\n",
       "Fuel_Type            0\n",
       "Transmission         0\n",
       "Owner_Type           0\n",
       "Mileage              0\n",
       "Engine               0\n",
       "Power                0\n",
       "Seats                0\n",
       "Price                0\n",
       "dtype: int64"
      ]
     },
     "execution_count": 8,
     "metadata": {},
     "output_type": "execute_result"
    }
   ],
   "source": [
    "df.isnull().sum()"
   ]
  },
  {
   "cell_type": "code",
   "execution_count": 9,
   "id": "75577195",
   "metadata": {},
   "outputs": [
    {
     "name": "stdout",
     "output_type": "stream",
     "text": [
      "<class 'pandas.core.frame.DataFrame'>\n",
      "Int64Index: 5975 entries, 0 to 6018\n",
      "Data columns (total 12 columns):\n",
      " #   Column             Non-Null Count  Dtype  \n",
      "---  ------             --------------  -----  \n",
      " 0   Name               5975 non-null   object \n",
      " 1   Location           5975 non-null   object \n",
      " 2   Year               5975 non-null   int64  \n",
      " 3   Kilometers_Driven  5975 non-null   int64  \n",
      " 4   Fuel_Type          5975 non-null   object \n",
      " 5   Transmission       5975 non-null   object \n",
      " 6   Owner_Type         5975 non-null   object \n",
      " 7   Mileage            5975 non-null   object \n",
      " 8   Engine             5975 non-null   object \n",
      " 9   Power              5975 non-null   object \n",
      " 10  Seats              5975 non-null   float64\n",
      " 11  Price              5975 non-null   float64\n",
      "dtypes: float64(2), int64(2), object(8)\n",
      "memory usage: 606.8+ KB\n"
     ]
    }
   ],
   "source": [
    "df.info()"
   ]
  },
  {
   "cell_type": "code",
   "execution_count": 10,
   "id": "3c56c8ac",
   "metadata": {},
   "outputs": [
    {
     "data": {
      "text/plain": [
       "array(['Maruti Wagon R LXI CNG', 'Hyundai Creta 1.6 CRDi SX Option',\n",
       "       'Honda Jazz V', ..., 'Volkswagen Polo IPL II 1.2 Petrol Highline',\n",
       "       'Tata Bolt Revotron XT', 'Mahindra Xylo D4 BSIV'], dtype=object)"
      ]
     },
     "execution_count": 10,
     "metadata": {},
     "output_type": "execute_result"
    }
   ],
   "source": [
    "df[\"Name\"].unique()"
   ]
  },
  {
   "cell_type": "code",
   "execution_count": 11,
   "id": "4275b49a",
   "metadata": {},
   "outputs": [],
   "source": [
    "# Name isn't important, extract brand from it\n",
    "df[\"Brand\"] = df[\"Name\"].apply(lambda x: x.split()[0])"
   ]
  },
  {
   "cell_type": "code",
   "execution_count": 12,
   "id": "03993113",
   "metadata": {},
   "outputs": [
    {
     "data": {
      "text/plain": [
       "array(['Maruti', 'Hyundai', 'Honda', 'Audi', 'Nissan', 'Toyota',\n",
       "       'Volkswagen', 'Tata', 'Land', 'Mitsubishi', 'Renault',\n",
       "       'Mercedes-Benz', 'BMW', 'Mahindra', 'Ford', 'Porsche', 'Datsun',\n",
       "       'Jaguar', 'Volvo', 'Chevrolet', 'Skoda', 'Mini', 'Fiat', 'Jeep',\n",
       "       'Smart', 'Ambassador', 'Isuzu', 'ISUZU', 'Force', 'Bentley',\n",
       "       'Lamborghini'], dtype=object)"
      ]
     },
     "execution_count": 12,
     "metadata": {},
     "output_type": "execute_result"
    }
   ],
   "source": [
    "df[\"Brand\"].unique()"
   ]
  },
  {
   "cell_type": "code",
   "execution_count": 13,
   "id": "a3b9d902",
   "metadata": {},
   "outputs": [
    {
     "name": "stdout",
     "output_type": "stream",
     "text": [
      "<class 'pandas.core.frame.DataFrame'>\n",
      "Int64Index: 5975 entries, 0 to 6018\n",
      "Data columns (total 13 columns):\n",
      " #   Column             Non-Null Count  Dtype  \n",
      "---  ------             --------------  -----  \n",
      " 0   Name               5975 non-null   object \n",
      " 1   Location           5975 non-null   object \n",
      " 2   Year               5975 non-null   int64  \n",
      " 3   Kilometers_Driven  5975 non-null   int64  \n",
      " 4   Fuel_Type          5975 non-null   object \n",
      " 5   Transmission       5975 non-null   object \n",
      " 6   Owner_Type         5975 non-null   object \n",
      " 7   Mileage            5975 non-null   object \n",
      " 8   Engine             5975 non-null   object \n",
      " 9   Power              5975 non-null   object \n",
      " 10  Seats              5975 non-null   float64\n",
      " 11  Price              5975 non-null   float64\n",
      " 12  Brand              5975 non-null   object \n",
      "dtypes: float64(2), int64(2), object(9)\n",
      "memory usage: 653.5+ KB\n"
     ]
    }
   ],
   "source": [
    "df.info()"
   ]
  },
  {
   "cell_type": "code",
   "execution_count": 14,
   "id": "20673f35",
   "metadata": {},
   "outputs": [
    {
     "data": {
      "text/plain": [
       "array(['Mumbai', 'Pune', 'Chennai', 'Coimbatore', 'Hyderabad', 'Jaipur',\n",
       "       'Kochi', 'Kolkata', 'Delhi', 'Bangalore', 'Ahmedabad'],\n",
       "      dtype=object)"
      ]
     },
     "execution_count": 14,
     "metadata": {},
     "output_type": "execute_result"
    }
   ],
   "source": [
    "df[\"Location\"].unique()"
   ]
  },
  {
   "cell_type": "code",
   "execution_count": 15,
   "id": "8b67ddf5",
   "metadata": {},
   "outputs": [
    {
     "data": {
      "text/plain": [
       "array([2010, 2015, 2011, 2012, 2013, 2016, 2018, 2014, 2017, 2007, 2009,\n",
       "       2008, 2019, 2006, 2005, 2004, 2002, 2000, 2003, 1999, 2001, 1998],\n",
       "      dtype=int64)"
      ]
     },
     "execution_count": 15,
     "metadata": {},
     "output_type": "execute_result"
    }
   ],
   "source": [
    "df[\"Year\"].unique()"
   ]
  },
  {
   "cell_type": "code",
   "execution_count": 16,
   "id": "eb8cb2c7",
   "metadata": {},
   "outputs": [
    {
     "data": {
      "text/plain": [
       "array([72000, 41000, 46000, ..., 45004, 70602, 27365], dtype=int64)"
      ]
     },
     "execution_count": 16,
     "metadata": {},
     "output_type": "execute_result"
    }
   ],
   "source": [
    "df[\"Kilometers_Driven\"].unique()"
   ]
  },
  {
   "cell_type": "code",
   "execution_count": 17,
   "id": "64ffa788",
   "metadata": {},
   "outputs": [
    {
     "data": {
      "text/plain": [
       "array(['CNG', 'Diesel', 'Petrol', 'LPG'], dtype=object)"
      ]
     },
     "execution_count": 17,
     "metadata": {},
     "output_type": "execute_result"
    }
   ],
   "source": [
    "df[\"Fuel_Type\"].unique()"
   ]
  },
  {
   "cell_type": "code",
   "execution_count": 18,
   "id": "c6c03a29",
   "metadata": {},
   "outputs": [
    {
     "data": {
      "text/plain": [
       "array(['Manual', 'Automatic'], dtype=object)"
      ]
     },
     "execution_count": 18,
     "metadata": {},
     "output_type": "execute_result"
    }
   ],
   "source": [
    "df[\"Transmission\"].unique()"
   ]
  },
  {
   "cell_type": "code",
   "execution_count": 19,
   "id": "db802937",
   "metadata": {},
   "outputs": [
    {
     "data": {
      "text/plain": [
       "array(['First', 'Second', 'Fourth & Above', 'Third'], dtype=object)"
      ]
     },
     "execution_count": 19,
     "metadata": {},
     "output_type": "execute_result"
    }
   ],
   "source": [
    "df[\"Owner_Type\"].unique()"
   ]
  },
  {
   "cell_type": "code",
   "execution_count": 20,
   "id": "feb77141",
   "metadata": {},
   "outputs": [
    {
     "data": {
      "text/plain": [
       "array(['26.6 km/kg', '19.67 kmpl', '18.2 kmpl', '20.77 kmpl', '15.2 kmpl',\n",
       "       '21.1 km/kg', '23.08 kmpl', '11.36 kmpl', '20.54 kmpl',\n",
       "       '22.3 kmpl', '21.56 kmpl', '16.8 kmpl', '25.2 kmpl', '12.7 kmpl',\n",
       "       '0.0 kmpl', '13.5 kmpl', '25.8 kmpl', '28.4 kmpl', '20.45 kmpl',\n",
       "       '14.84 kmpl', '22.69 kmpl', '23.65 kmpl', '13.53 kmpl',\n",
       "       '18.5 kmpl', '14.4 kmpl', '20.92 kmpl', '17.5 kmpl', '12.8 kmpl',\n",
       "       '19.01 kmpl', '14.53 kmpl', '11.18 kmpl', '12.4 kmpl',\n",
       "       '16.09 kmpl', '14.0 kmpl', '24.3 kmpl', '18.15 kmpl', '11.74 kmpl',\n",
       "       '22.07 kmpl', '19.7 kmpl', '25.4 kmpl', '25.32 kmpl', '14.62 kmpl',\n",
       "       '14.28 kmpl', '14.9 kmpl', '11.25 kmpl', '24.4 kmpl', '16.55 kmpl',\n",
       "       '17.11 kmpl', '22.9 kmpl', '17.8 kmpl', '18.9 kmpl', '15.04 kmpl',\n",
       "       '25.17 kmpl', '20.36 kmpl', '13.29 kmpl', '13.68 kmpl',\n",
       "       '20.0 kmpl', '15.8 kmpl', '25.0 kmpl', '16.4 kmpl', '24.52 kmpl',\n",
       "       '22.1 kmpl', '8.5 kmpl', '15.1 kmpl', '16.95 kmpl', '19.64 kmpl',\n",
       "       '16.5 kmpl', '18.53 kmpl', '17.57 kmpl', '18.0 kmpl', '23.2 kmpl',\n",
       "       '16.73 kmpl', '17.0 kmpl', '13.0 kmpl', '17.68 kmpl', '22.7 kmpl',\n",
       "       '16.2 kmpl', '15.26 kmpl', '23.0 kmpl', '19.83 kmpl', '14.94 kmpl',\n",
       "       '17.71 kmpl', '14.74 kmpl', '16.0 kmpl', '22.32 kmpl',\n",
       "       '12.99 kmpl', '23.3 kmpl', '19.15 kmpl', '10.8 kmpl', '15.0 kmpl',\n",
       "       '22.0 kmpl', '21.9 kmpl', '12.05 kmpl', '11.7 kmpl', '21.21 kmpl',\n",
       "       '20.73 kmpl', '21.1 kmpl', '24.07 kmpl', '19.0 kmpl', '20.58 kmpl',\n",
       "       '19.27 kmpl', '11.5 kmpl', '18.6 kmpl', '21.14 kmpl', '11.05 kmpl',\n",
       "       '21.76 kmpl', '7.81 kmpl', '21.66 kmpl', '17.2 kmpl', '20.63 kmpl',\n",
       "       '19.4 kmpl', '14.8 kmpl', '26.0 kmpl', '20.4 kmpl', '21.5 kmpl',\n",
       "       '15.3 kmpl', '17.9 kmpl', '16.6 kmpl', '22.54 kmpl', '25.44 kmpl',\n",
       "       '13.7 kmpl', '22.48 kmpl', '12.9 kmpl', '19.98 kmpl', '21.4 kmpl',\n",
       "       '19.81 kmpl', '15.4 kmpl', '25.47 kmpl', '19.87 kmpl',\n",
       "       '17.45 kmpl', '14.7 kmpl', '15.64 kmpl', '15.73 kmpl',\n",
       "       '23.59 kmpl', '27.4 kmpl', '20.46 kmpl', '15.29 kmpl',\n",
       "       '20.51 kmpl', '11.8 kmpl', '14.3 kmpl', '14.67 kmpl', '17.19 kmpl',\n",
       "       '21.03 kmpl', '22.5 kmpl', '16.82 kmpl', '11.72 kmpl', '17.4 kmpl',\n",
       "       '17.05 kmpl', '24.0 kmpl', '28.09 kmpl', '20.5 kmpl', '13.1 kmpl',\n",
       "       '19.91 kmpl', '18.7 kmpl', '16.38 kmpl', '11.57 kmpl', '17.3 kmpl',\n",
       "       '22.95 kmpl', '18.88 kmpl', '23.4 kmpl', '22.74 kmpl',\n",
       "       '12.07 kmpl', '17.1 kmpl', '18.48 kmpl', '16.47 kmpl', '23.1 kmpl',\n",
       "       '14.07 kmpl', '16.02 kmpl', '19.3 kmpl', '17.7 kmpl', '9.52 kmpl',\n",
       "       '14.75 kmpl', '26.3 km/kg', '11.3 kmpl', '21.12 kmpl',\n",
       "       '21.02 kmpl', '14.45 kmpl', '19.33 kmpl', '13.8 kmpl', '24.7 kmpl',\n",
       "       '11.0 kmpl', '11.07 kmpl', '16.1 kmpl', '21.43 kmpl', '14.21 kmpl',\n",
       "       '18.86 kmpl', '16.07 kmpl', '13.49 kmpl', '20.38 kmpl',\n",
       "       '12.0 kmpl', '17.01 kmpl', '13.2 kmpl', '20.37 kmpl', '15.1 km/kg',\n",
       "       '15.96 kmpl', '14.16 kmpl', '13.17 kmpl', '27.62 kmpl',\n",
       "       '25.1 kmpl', '15.17 kmpl', '11.33 kmpl', '17.92 kmpl',\n",
       "       '12.55 kmpl', '12.6 kmpl', '17.72 kmpl', '18.16 kmpl',\n",
       "       '15.68 kmpl', '15.5 kmpl', '12.1 kmpl', '14.83 kmpl', '17.6 kmpl',\n",
       "       '14.6 kmpl', '14.66 kmpl', '10.93 kmpl', '20.68 kmpl', '9.9 kmpl',\n",
       "       '21.13 kmpl', '20.14 kmpl', '19.2 kmpl', '27.3 kmpl', '16.36 kmpl',\n",
       "       '26.59 kmpl', '12.5 kmpl', '13.6 kmpl', '15.06 kmpl', '10.13 kmpl',\n",
       "       '17.21 kmpl', '15.97 kmpl', '10.5 kmpl', '14.69 kmpl', '23.9 kmpl',\n",
       "       '19.1 kmpl', '21.27 kmpl', '15.9 kmpl', '20.7 kmpl', '14.1 kmpl',\n",
       "       '20.89 kmpl', '18.12 kmpl', '12.3 kmpl', '19.71 kmpl', '9.43 kmpl',\n",
       "       '13.4 kmpl', '13.14 kmpl', '18.1 kmpl', '22.77 kmpl', '14.49 kmpl',\n",
       "       '12.39 kmpl', '10.91 kmpl', '20.85 kmpl', '15.63 kmpl',\n",
       "       '27.39 kmpl', '18.3 kmpl', '16.78 kmpl', '25.5 kmpl', '10.0 kmpl',\n",
       "       '13.73 kmpl', '24.2 kmpl', '14.02 kmpl', '26.83 km/kg',\n",
       "       '16.77 kmpl', '24.5 kmpl', '20.34 kmpl', '21.7 kmpl', '9.7 kmpl',\n",
       "       '14.33 kmpl', '21.64 kmpl', '13.2 km/kg', '19.16 kmpl',\n",
       "       '16.93 kmpl', '9.0 kmpl', '26.2 km/kg', '16.3 kmpl', '12.62 kmpl',\n",
       "       '17.3 km/kg', '20.64 kmpl', '14.24 kmpl', '18.06 kmpl',\n",
       "       '10.2 kmpl', '10.1 kmpl', '18.25 kmpl', '13.93 kmpl', '25.83 kmpl',\n",
       "       '8.6 kmpl', '13.24 kmpl', '17.09 kmpl', '23.84 kmpl', '8.45 kmpl',\n",
       "       '19.6 kmpl', '19.5 kmpl', '20.3 kmpl', '16.05 kmpl', '11.2 kmpl',\n",
       "       '27.03 kmpl', '18.78 kmpl', '12.35 kmpl', '14.59 kmpl',\n",
       "       '17.32 kmpl', '14.95 kmpl', '13.22 kmpl', '23.03 kmpl',\n",
       "       '33.44 km/kg', '15.6 kmpl', '19.12 kmpl', '10.98 kmpl',\n",
       "       '33.54 km/kg', '16.46 kmpl', '18.4 kmpl', '11.1 kmpl',\n",
       "       '13.01 kmpl', '18.8 kmpl', '16.52 kmpl', '18.44 kmpl',\n",
       "       '19.49 kmpl', '23.5 kmpl', '23.8 kmpl', '12.65 kmpl', '20.65 kmpl',\n",
       "       '21.72 kmpl', '12.19 kmpl', '26.1 kmpl', '18.33 kmpl',\n",
       "       '12.81 kmpl', '17.5 km/kg', '17.06 kmpl', '17.67 kmpl',\n",
       "       '19.34 kmpl', '8.3 kmpl', '16.96 kmpl', '11.79 kmpl', '20.86 kmpl',\n",
       "       '16.98 kmpl', '11.68 kmpl', '15.74 kmpl', '15.7 kmpl',\n",
       "       '18.49 kmpl', '10.9 kmpl', '19.59 kmpl', '11.4 kmpl', '13.06 kmpl',\n",
       "       '21.0 kmpl', '15.15 kmpl', '16.9 kmpl', '18.23 kmpl', '25.0 km/kg',\n",
       "       '17.16 kmpl', '17.43 kmpl', '19.08 kmpl', '18.56 kmpl',\n",
       "       '11.9 kmpl', '24.6 km/kg', '21.79 kmpl', '12.95 kmpl', '25.6 kmpl',\n",
       "       '13.45 km/kg', '26.21 kmpl', '13.58 kmpl', '16.25 kmpl',\n",
       "       '10.4 kmpl', '17.44 kmpl', '19.2 km/kg', '22.71 kmpl',\n",
       "       '17.54 kmpl', '22.1 km/kg', '17.0 km/kg', '15.87 kmpl', '9.5 kmpl',\n",
       "       '11.56 kmpl', '14.39 kmpl', '19.09 kmpl', '17.85 kmpl',\n",
       "       '31.79 km/kg', '18.18 kmpl', '21.19 kmpl', '21.8 kmpl',\n",
       "       '15.42 kmpl', '14.47 kmpl', '19.69 kmpl', '12.83 kmpl', '8.0 kmpl',\n",
       "       '22.8 km/kg', '12.63 kmpl', '14.57 kmpl', '27.28 kmpl',\n",
       "       '15.41 kmpl', '32.26 km/kg', '18.19 kmpl', '13.33 kmpl',\n",
       "       '16.7 kmpl', '17.84 kmpl', '20.0 km/kg', '23.19 kmpl',\n",
       "       '11.49 kmpl', '18.51 kmpl', '13.44 kmpl', '8.7 kmpl', '8.77 kmpl',\n",
       "       '17.97 kmpl', '23.57 kmpl', '12.37 kmpl', '9.1 kmpl', '12.51 kmpl',\n",
       "       '19.44 kmpl', '21.38 kmpl', '16.51 kmpl', '24.8 kmpl',\n",
       "       '14.42 kmpl', '14.53 km/kg', '26.8 kmpl', '24.04 kmpl', '9.8 kmpl',\n",
       "       '19.68 kmpl', '21.4 km/kg', '21.2 kmpl', '19.72 kmpl', '14.2 kmpl',\n",
       "       '12.98 kmpl', '23.01 kmpl', '16.12 kmpl', '9.3 kmpl', '15.85 kmpl',\n",
       "       '17.88 kmpl', '10.6 kmpl', '11.78 kmpl', '7.94 kmpl', '25.01 kmpl',\n",
       "       '8.1 kmpl', '13.9 kmpl', '11.62 kmpl', '20.62 kmpl', '15.11 kmpl',\n",
       "       '10.37 kmpl', '18.59 kmpl', '9.74 kmpl', '14.81 kmpl', '8.2 kmpl',\n",
       "       '12.97 kmpl', '7.5 kmpl', '30.46 km/kg', '6.4 kmpl', '12.85 kmpl',\n",
       "       '18.69 kmpl', '17.24 kmpl'], dtype=object)"
      ]
     },
     "execution_count": 20,
     "metadata": {},
     "output_type": "execute_result"
    }
   ],
   "source": [
    "df['Mileage'].unique()"
   ]
  },
  {
   "cell_type": "code",
   "execution_count": 21,
   "metadata": {},
   "outputs": [],
   "source": [
    "# extract numeric\n",
    "df[\"Mileage\"] = df[\"Mileage\"].apply(lambda x: x.split()[0]).astype(float)"
   ]
  },
  {
   "cell_type": "code",
   "execution_count": 22,
   "id": "9f10f777",
   "metadata": {},
   "outputs": [
    {
     "data": {
      "text/plain": [
       "array([26.6 , 19.67, 18.2 , 20.77, 15.2 , 21.1 , 23.08, 11.36, 20.54,\n",
       "       22.3 , 21.56, 16.8 , 25.2 , 12.7 ,  0.  , 13.5 , 25.8 , 28.4 ,\n",
       "       20.45, 14.84, 22.69, 23.65, 13.53, 18.5 , 14.4 , 20.92, 17.5 ,\n",
       "       12.8 , 19.01, 14.53, 11.18, 12.4 , 16.09, 14.  , 24.3 , 18.15,\n",
       "       11.74, 22.07, 19.7 , 25.4 , 25.32, 14.62, 14.28, 14.9 , 11.25,\n",
       "       24.4 , 16.55, 17.11, 22.9 , 17.8 , 18.9 , 15.04, 25.17, 20.36,\n",
       "       13.29, 13.68, 20.  , 15.8 , 25.  , 16.4 , 24.52, 22.1 ,  8.5 ,\n",
       "       15.1 , 16.95, 19.64, 16.5 , 18.53, 17.57, 18.  , 23.2 , 16.73,\n",
       "       17.  , 13.  , 17.68, 22.7 , 16.2 , 15.26, 23.  , 19.83, 14.94,\n",
       "       17.71, 14.74, 16.  , 22.32, 12.99, 23.3 , 19.15, 10.8 , 15.  ,\n",
       "       22.  , 21.9 , 12.05, 11.7 , 21.21, 20.73, 24.07, 19.  , 20.58,\n",
       "       19.27, 11.5 , 18.6 , 21.14, 11.05, 21.76,  7.81, 21.66, 17.2 ,\n",
       "       20.63, 19.4 , 14.8 , 26.  , 20.4 , 21.5 , 15.3 , 17.9 , 16.6 ,\n",
       "       22.54, 25.44, 13.7 , 22.48, 12.9 , 19.98, 21.4 , 19.81, 15.4 ,\n",
       "       25.47, 19.87, 17.45, 14.7 , 15.64, 15.73, 23.59, 27.4 , 20.46,\n",
       "       15.29, 20.51, 11.8 , 14.3 , 14.67, 17.19, 21.03, 22.5 , 16.82,\n",
       "       11.72, 17.4 , 17.05, 24.  , 28.09, 20.5 , 13.1 , 19.91, 18.7 ,\n",
       "       16.38, 11.57, 17.3 , 22.95, 18.88, 23.4 , 22.74, 12.07, 17.1 ,\n",
       "       18.48, 16.47, 23.1 , 14.07, 16.02, 19.3 , 17.7 ,  9.52, 14.75,\n",
       "       26.3 , 11.3 , 21.12, 21.02, 14.45, 19.33, 13.8 , 24.7 , 11.  ,\n",
       "       11.07, 16.1 , 21.43, 14.21, 18.86, 16.07, 13.49, 20.38, 12.  ,\n",
       "       17.01, 13.2 , 20.37, 15.96, 14.16, 13.17, 27.62, 25.1 , 15.17,\n",
       "       11.33, 17.92, 12.55, 12.6 , 17.72, 18.16, 15.68, 15.5 , 12.1 ,\n",
       "       14.83, 17.6 , 14.6 , 14.66, 10.93, 20.68,  9.9 , 21.13, 20.14,\n",
       "       19.2 , 27.3 , 16.36, 26.59, 12.5 , 13.6 , 15.06, 10.13, 17.21,\n",
       "       15.97, 10.5 , 14.69, 23.9 , 19.1 , 21.27, 15.9 , 20.7 , 14.1 ,\n",
       "       20.89, 18.12, 12.3 , 19.71,  9.43, 13.4 , 13.14, 18.1 , 22.77,\n",
       "       14.49, 12.39, 10.91, 20.85, 15.63, 27.39, 18.3 , 16.78, 25.5 ,\n",
       "       10.  , 13.73, 24.2 , 14.02, 26.83, 16.77, 24.5 , 20.34, 21.7 ,\n",
       "        9.7 , 14.33, 21.64, 19.16, 16.93,  9.  , 26.2 , 16.3 , 12.62,\n",
       "       20.64, 14.24, 18.06, 10.2 , 10.1 , 18.25, 13.93, 25.83,  8.6 ,\n",
       "       13.24, 17.09, 23.84,  8.45, 19.6 , 19.5 , 20.3 , 16.05, 11.2 ,\n",
       "       27.03, 18.78, 12.35, 14.59, 17.32, 14.95, 13.22, 23.03, 33.44,\n",
       "       15.6 , 19.12, 10.98, 33.54, 16.46, 18.4 , 11.1 , 13.01, 18.8 ,\n",
       "       16.52, 18.44, 19.49, 23.5 , 23.8 , 12.65, 20.65, 21.72, 12.19,\n",
       "       26.1 , 18.33, 12.81, 17.06, 17.67, 19.34,  8.3 , 16.96, 11.79,\n",
       "       20.86, 16.98, 11.68, 15.74, 15.7 , 18.49, 10.9 , 19.59, 11.4 ,\n",
       "       13.06, 21.  , 15.15, 16.9 , 18.23, 17.16, 17.43, 19.08, 18.56,\n",
       "       11.9 , 24.6 , 21.79, 12.95, 25.6 , 13.45, 26.21, 13.58, 16.25,\n",
       "       10.4 , 17.44, 22.71, 17.54, 15.87,  9.5 , 11.56, 14.39, 19.09,\n",
       "       17.85, 31.79, 18.18, 21.19, 21.8 , 15.42, 14.47, 19.69, 12.83,\n",
       "        8.  , 22.8 , 12.63, 14.57, 27.28, 15.41, 32.26, 18.19, 13.33,\n",
       "       16.7 , 17.84, 23.19, 11.49, 18.51, 13.44,  8.7 ,  8.77, 17.97,\n",
       "       23.57, 12.37,  9.1 , 12.51, 19.44, 21.38, 16.51, 24.8 , 14.42,\n",
       "       26.8 , 24.04,  9.8 , 19.68, 21.2 , 19.72, 14.2 , 12.98, 23.01,\n",
       "       16.12,  9.3 , 15.85, 17.88, 10.6 , 11.78,  7.94, 25.01,  8.1 ,\n",
       "       13.9 , 11.62, 20.62, 15.11, 10.37, 18.59,  9.74, 14.81,  8.2 ,\n",
       "       12.97,  7.5 , 30.46,  6.4 , 12.85, 18.69, 17.24])"
      ]
     },
     "execution_count": 22,
     "metadata": {},
     "output_type": "execute_result"
    }
   ],
   "source": [
    "df[\"Mileage\"].unique()"
   ]
  },
  {
   "cell_type": "code",
   "execution_count": 23,
   "id": "cd313740",
   "metadata": {},
   "outputs": [
    {
     "data": {
      "text/plain": [
       "array(['998 CC', '1582 CC', '1199 CC', '1248 CC', '1968 CC', '814 CC',\n",
       "       '1461 CC', '2755 CC', '1598 CC', '1462 CC', '1497 CC', '2179 CC',\n",
       "       '2477 CC', '1498 CC', '2143 CC', '1995 CC', '1984 CC', '1197 CC',\n",
       "       '2494 CC', '1798 CC', '2696 CC', '2698 CC', '1061 CC', '1198 CC',\n",
       "       '2987 CC', '796 CC', '624 CC', '1999 CC', '1991 CC', '2694 CC',\n",
       "       '1120 CC', '2498 CC', '799 CC', '2393 CC', '1399 CC', '1796 CC',\n",
       "       '2148 CC', '1396 CC', '1950 CC', '4806 CC', '1998 CC', '1086 CC',\n",
       "       '1193 CC', '2982 CC', '1493 CC', '2967 CC', '2993 CC', '1196 CC',\n",
       "       '1799 CC', '2497 CC', '2354 CC', '1373 CC', '2996 CC', '1591 CC',\n",
       "       '2894 CC', '5461 CC', '1595 CC', '936 CC', '1997 CC', '1896 CC',\n",
       "       '1390 CC', '1364 CC', '2199 CC', '993 CC', '999 CC', '1405 CC',\n",
       "       '2956 CC', '1794 CC', '995 CC', '2496 CC', '1599 CC', '2400 CC',\n",
       "       '1495 CC', '2523 CC', '793 CC', '4134 CC', '1596 CC', '1395 CC',\n",
       "       '2953 CC', '1586 CC', '2362 CC', '1496 CC', '1368 CC', '1298 CC',\n",
       "       '1956 CC', '1299 CC', '3498 CC', '2835 CC', '1150 CC', '3198 CC',\n",
       "       '1343 CC', '1499 CC', '1186 CC', '1590 CC', '2609 CC', '2499 CC',\n",
       "       '2446 CC', '1978 CC', '2360 CC', '3436 CC', '2198 CC', '4367 CC',\n",
       "       '2706 CC', '1422 CC', '2979 CC', '1969 CC', '1489 CC', '2489 CC',\n",
       "       '1242 CC', '1388 CC', '1172 CC', '2495 CC', '1194 CC', '3200 CC',\n",
       "       '1781 CC', '1341 CC', '2773 CC', '3597 CC', '1985 CC', '2147 CC',\n",
       "       '1047 CC', '2999 CC', '2995 CC', '2997 CC', '1948 CC', '2359 CC',\n",
       "       '4395 CC', '2349 CC', '2720 CC', '1468 CC', '3197 CC', '2487 CC',\n",
       "       '1597 CC', '2771 CC', '4951 CC', '970 CC', '2925 CC', '2200 CC',\n",
       "       '5000 CC', '2149 CC', '5998 CC', '2092 CC', '5204 CC', '2112 CC',\n",
       "       '1797 CC'], dtype=object)"
      ]
     },
     "execution_count": 23,
     "metadata": {},
     "output_type": "execute_result"
    }
   ],
   "source": [
    "df.Engine.unique()"
   ]
  },
  {
   "cell_type": "code",
   "execution_count": 24,
   "id": "afaf3fb5",
   "metadata": {},
   "outputs": [],
   "source": [
    "# Extract numeric value from it \n",
    "df[\"Engine\"] = df[\"Engine\"].apply(lambda x: x.split()[0]).astype(int)"
   ]
  },
  {
   "cell_type": "code",
   "execution_count": 25,
   "id": "1822186f",
   "metadata": {},
   "outputs": [
    {
     "data": {
      "text/plain": [
       "array([ 998, 1582, 1199, 1248, 1968,  814, 1461, 2755, 1598, 1462, 1497,\n",
       "       2179, 2477, 1498, 2143, 1995, 1984, 1197, 2494, 1798, 2696, 2698,\n",
       "       1061, 1198, 2987,  796,  624, 1999, 1991, 2694, 1120, 2498,  799,\n",
       "       2393, 1399, 1796, 2148, 1396, 1950, 4806, 1998, 1086, 1193, 2982,\n",
       "       1493, 2967, 2993, 1196, 1799, 2497, 2354, 1373, 2996, 1591, 2894,\n",
       "       5461, 1595,  936, 1997, 1896, 1390, 1364, 2199,  993,  999, 1405,\n",
       "       2956, 1794,  995, 2496, 1599, 2400, 1495, 2523,  793, 4134, 1596,\n",
       "       1395, 2953, 1586, 2362, 1496, 1368, 1298, 1956, 1299, 3498, 2835,\n",
       "       1150, 3198, 1343, 1499, 1186, 1590, 2609, 2499, 2446, 1978, 2360,\n",
       "       3436, 2198, 4367, 2706, 1422, 2979, 1969, 1489, 2489, 1242, 1388,\n",
       "       1172, 2495, 1194, 3200, 1781, 1341, 2773, 3597, 1985, 2147, 1047,\n",
       "       2999, 2995, 2997, 1948, 2359, 4395, 2349, 2720, 1468, 3197, 2487,\n",
       "       1597, 2771, 4951,  970, 2925, 2200, 5000, 2149, 5998, 2092, 5204,\n",
       "       2112, 1797])"
      ]
     },
     "execution_count": 25,
     "metadata": {},
     "output_type": "execute_result"
    }
   ],
   "source": [
    "df.Engine.unique()"
   ]
  },
  {
   "cell_type": "code",
   "execution_count": 26,
   "id": "5030a1f7",
   "metadata": {},
   "outputs": [
    {
     "data": {
      "text/plain": [
       "array(['58.16 bhp', '126.2 bhp', '88.7 bhp', '88.76 bhp', '140.8 bhp',\n",
       "       '55.2 bhp', '63.1 bhp', '171.5 bhp', '103.6 bhp', '74 bhp',\n",
       "       '103.25 bhp', '116.3 bhp', '187.7 bhp', '115 bhp', '175.56 bhp',\n",
       "       '98.6 bhp', '83.8 bhp', '167.62 bhp', '190 bhp', '88.5 bhp',\n",
       "       '177.01 bhp', '80 bhp', '67.1 bhp', '102 bhp', '108.45 bhp',\n",
       "       '138.1 bhp', '184 bhp', '179.5 bhp', '103.5 bhp', '64 bhp',\n",
       "       '82 bhp', '254.8 bhp', '73.9 bhp', '46.3 bhp', '37.5 bhp',\n",
       "       '77 bhp', '82.9 bhp', '149.92 bhp', '138.03 bhp', '112.2 bhp',\n",
       "       '163.7 bhp', '71 bhp', '105 bhp', '174.33 bhp', '75 bhp',\n",
       "       '103.2 bhp', '53.3 bhp', '78.9 bhp', '147.6 bhp', '147.8 bhp',\n",
       "       '68 bhp', '186 bhp', '170 bhp', '69 bhp', '140 bhp', '78 bhp',\n",
       "       '194 bhp', '500 bhp', '108.5 bhp', '86.8 bhp', '187.74 bhp',\n",
       "       'null bhp', '132 bhp', '86.7 bhp', '73.94 bhp', '117.3 bhp',\n",
       "       '218 bhp', '168.5 bhp', '89.84 bhp', '110 bhp', '90 bhp',\n",
       "       '82.85 bhp', '67 bhp', '241.4 bhp', '35 bhp', '270.9 bhp',\n",
       "       '126.32 bhp', '73 bhp', '130 bhp', '100.6 bhp', '150 bhp',\n",
       "       '75.94 bhp', '215 bhp', '107.3 bhp', '37.48 bhp', '120 bhp',\n",
       "       '178 bhp', '152 bhp', '91.1 bhp', '85.80 bhp', '362.07 bhp',\n",
       "       '121.3 bhp', '143 bhp', '81.80 bhp', '171 bhp', '76.8 bhp',\n",
       "       '103.52 bhp', '444 bhp', '362.9 bhp', '67.06 bhp', '120.7 bhp',\n",
       "       '258 bhp', '81.86 bhp', '112 bhp', '88.73 bhp', '57.6 bhp',\n",
       "       '157.75 bhp', '102.5 bhp', '201.1 bhp', '83.1 bhp', '68.05 bhp',\n",
       "       '88.50 bhp', '106 bhp', '100 bhp', '81.83 bhp', '85 bhp',\n",
       "       '64.1 bhp', '177.5 bhp', '246.7 bhp', '177.46 bhp', '65 bhp',\n",
       "       '67.04 bhp', '189.08 bhp', '53.5 bhp', '194.3 bhp', '70 bhp',\n",
       "       '183 bhp', '254.79 bhp', '66.1 bhp', '76 bhp', '60 bhp',\n",
       "       '123.24 bhp', '47.3 bhp', '118 bhp', '88.8 bhp', '177 bhp',\n",
       "       '136 bhp', '201.15 bhp', '93.7 bhp', '177.6 bhp', '313 bhp',\n",
       "       '245 bhp', '125 bhp', '141 bhp', '227 bhp', '62 bhp', '141.1 bhp',\n",
       "       '83.14 bhp', '192 bhp', '67.05 bhp', '47 bhp', '235 bhp', '37 bhp',\n",
       "       '87.2 bhp', '203 bhp', '204 bhp', '246.74 bhp', '122 bhp',\n",
       "       '282 bhp', '181 bhp', '224 bhp', '94 bhp', '367 bhp', '98.79 bhp',\n",
       "       '62.1 bhp', '174.3 bhp', '114 bhp', '335.2 bhp', '169 bhp',\n",
       "       '191.34 bhp', '108.49 bhp', '138.02 bhp', '156 bhp', '187.4 bhp',\n",
       "       '66 bhp', '103.3 bhp', '164.7 bhp', '79.4 bhp', '198.5 bhp',\n",
       "       '154 bhp', '73.8 bhp', '181.43 bhp', '85.8 bhp', '207.8 bhp',\n",
       "       '108.4 bhp', '88 bhp', '63 bhp', '82.5 bhp', '364.9 bhp',\n",
       "       '107.2 bhp', '113.98 bhp', '126.3 bhp', '185 bhp', '237.4 bhp',\n",
       "       '99.6 bhp', '66.7 bhp', '160 bhp', '306 bhp', '98.59 bhp',\n",
       "       '92.7 bhp', '147.51 bhp', '197.2 bhp', '167.6 bhp', '165 bhp',\n",
       "       '110.4 bhp', '73.97 bhp', '147.9 bhp', '99 bhp', '116.6 bhp',\n",
       "       '148 bhp', '34.2 bhp', '155 bhp', '197 bhp', '108.62 bhp',\n",
       "       '118.3 bhp', '38.4 bhp', '241.38 bhp', '153.86 bhp', '163.5 bhp',\n",
       "       '226.6 bhp', '84.8 bhp', '53.64 bhp', '158.2 bhp', '69.01 bhp',\n",
       "       '181.03 bhp', '58.2 bhp', '104.68 bhp', '126.24 bhp', '73.75 bhp',\n",
       "       '158 bhp', '130.2 bhp', '57.5 bhp', '97.7 bhp', '121.4 bhp',\n",
       "       '98.96 bhp', '174.5 bhp', '308 bhp', '121.36 bhp', '138 bhp',\n",
       "       '265 bhp', '84 bhp', '321 bhp', '91.72 bhp', '65.3 bhp',\n",
       "       '88.2 bhp', '93 bhp', '35.5 bhp', '86.79 bhp', '157.7 bhp',\n",
       "       '40.3 bhp', '91.7 bhp', '180 bhp', '114.4 bhp', '158.8 bhp',\n",
       "       '157.8 bhp', '123.7 bhp', '56.3 bhp', '189 bhp', '104 bhp',\n",
       "       '210 bhp', '270.88 bhp', '142 bhp', '255 bhp', '236 bhp',\n",
       "       '167.7 bhp', '148.31 bhp', '80.46 bhp', '138.08 bhp', '250 bhp',\n",
       "       '74.9 bhp', '91.2 bhp', '102.57 bhp', '97.6 bhp', '102.53 bhp',\n",
       "       '240 bhp', '254 bhp', '112.4 bhp', '73.74 bhp', '108.495 bhp',\n",
       "       '116.9 bhp', '101 bhp', '320 bhp', '70.02 bhp', '261.49 bhp',\n",
       "       '105.5 bhp', '550 bhp', '168.7 bhp', '55.23 bhp', '94.68 bhp',\n",
       "       '152.88 bhp', '163.2 bhp', '203.2 bhp', '241 bhp', '95 bhp',\n",
       "       '200 bhp', '271.23 bhp', '63.12 bhp', '85.7 bhp', '308.43 bhp',\n",
       "       '118.6 bhp', '199.3 bhp', '83.83 bhp', '55 bhp', '83 bhp',\n",
       "       '300 bhp', '201 bhp', '262.6 bhp', '163 bhp', '58.33 bhp',\n",
       "       '86.76 bhp', '76.9 bhp', '174.57 bhp', '301.73 bhp', '68.1 bhp',\n",
       "       '162 bhp', '394.3 bhp', '80.9 bhp', '147.5 bhp', '272 bhp',\n",
       "       '340 bhp', '120.33 bhp', '82.4 bhp', '231.1 bhp', '335.3 bhp',\n",
       "       '333 bhp', '198.25 bhp', '224.34 bhp', '402 bhp', '261 bhp',\n",
       "       '61 bhp', '144 bhp', '71.01 bhp', '271.72 bhp', '134 bhp',\n",
       "       '135.1 bhp', '92 bhp', '64.08 bhp', '261.5 bhp', '123.37 bhp',\n",
       "       '175.67 bhp', '53 bhp', '110.5 bhp', '178.4 bhp', '193.1 bhp',\n",
       "       '395 bhp', '48.21 bhp', '450 bhp', '421 bhp', '89.75 bhp',\n",
       "       '387.3 bhp', '130.3 bhp', '281.61 bhp', '52.8 bhp', '139.01 bhp',\n",
       "       '208 bhp', '503 bhp', '168 bhp', '98.82 bhp', '139.07 bhp',\n",
       "       '83.11 bhp', '74.93 bhp', '382 bhp', '74.96 bhp', '552 bhp',\n",
       "       '127 bhp', '560 bhp', '116.4 bhp', '161.6 bhp', '488.1 bhp',\n",
       "       '103 bhp', '181.04 bhp'], dtype=object)"
      ]
     },
     "execution_count": 26,
     "metadata": {},
     "output_type": "execute_result"
    }
   ],
   "source": [
    "df.Power.unique()"
   ]
  },
  {
   "cell_type": "code",
   "execution_count": 27,
   "id": "3dfe486f",
   "metadata": {},
   "outputs": [],
   "source": [
    "# Extract numeric value from it \n",
    "df[\"Power\"] = df[\"Power\"].apply(lambda x: x.split()[0])"
   ]
  },
  {
   "cell_type": "code",
   "execution_count": 28,
   "id": "f77bcb5e",
   "metadata": {},
   "outputs": [],
   "source": [
    "df[\"Power\"] = pd.to_numeric(df['Power'], errors='coerce')"
   ]
  },
  {
   "cell_type": "code",
   "execution_count": 29,
   "id": "8e631eac",
   "metadata": {},
   "outputs": [
    {
     "data": {
      "text/plain": [
       "array([ 58.16 , 126.2  ,  88.7  ,  88.76 , 140.8  ,  55.2  ,  63.1  ,\n",
       "       171.5  , 103.6  ,  74.   , 103.25 , 116.3  , 187.7  , 115.   ,\n",
       "       175.56 ,  98.6  ,  83.8  , 167.62 , 190.   ,  88.5  , 177.01 ,\n",
       "        80.   ,  67.1  , 102.   , 108.45 , 138.1  , 184.   , 179.5  ,\n",
       "       103.5  ,  64.   ,  82.   , 254.8  ,  73.9  ,  46.3  ,  37.5  ,\n",
       "        77.   ,  82.9  , 149.92 , 138.03 , 112.2  , 163.7  ,  71.   ,\n",
       "       105.   , 174.33 ,  75.   , 103.2  ,  53.3  ,  78.9  , 147.6  ,\n",
       "       147.8  ,  68.   , 186.   , 170.   ,  69.   , 140.   ,  78.   ,\n",
       "       194.   , 500.   , 108.5  ,  86.8  , 187.74 ,     nan, 132.   ,\n",
       "        86.7  ,  73.94 , 117.3  , 218.   , 168.5  ,  89.84 , 110.   ,\n",
       "        90.   ,  82.85 ,  67.   , 241.4  ,  35.   , 270.9  , 126.32 ,\n",
       "        73.   , 130.   , 100.6  , 150.   ,  75.94 , 215.   , 107.3  ,\n",
       "        37.48 , 120.   , 178.   , 152.   ,  91.1  ,  85.8  , 362.07 ,\n",
       "       121.3  , 143.   ,  81.8  , 171.   ,  76.8  , 103.52 , 444.   ,\n",
       "       362.9  ,  67.06 , 120.7  , 258.   ,  81.86 , 112.   ,  88.73 ,\n",
       "        57.6  , 157.75 , 102.5  , 201.1  ,  83.1  ,  68.05 , 106.   ,\n",
       "       100.   ,  81.83 ,  85.   ,  64.1  , 177.5  , 246.7  , 177.46 ,\n",
       "        65.   ,  67.04 , 189.08 ,  53.5  , 194.3  ,  70.   , 183.   ,\n",
       "       254.79 ,  66.1  ,  76.   ,  60.   , 123.24 ,  47.3  , 118.   ,\n",
       "        88.8  , 177.   , 136.   , 201.15 ,  93.7  , 177.6  , 313.   ,\n",
       "       245.   , 125.   , 141.   , 227.   ,  62.   , 141.1  ,  83.14 ,\n",
       "       192.   ,  67.05 ,  47.   , 235.   ,  37.   ,  87.2  , 203.   ,\n",
       "       204.   , 246.74 , 122.   , 282.   , 181.   , 224.   ,  94.   ,\n",
       "       367.   ,  98.79 ,  62.1  , 174.3  , 114.   , 335.2  , 169.   ,\n",
       "       191.34 , 108.49 , 138.02 , 156.   , 187.4  ,  66.   , 103.3  ,\n",
       "       164.7  ,  79.4  , 198.5  , 154.   ,  73.8  , 181.43 , 207.8  ,\n",
       "       108.4  ,  88.   ,  63.   ,  82.5  , 364.9  , 107.2  , 113.98 ,\n",
       "       126.3  , 185.   , 237.4  ,  99.6  ,  66.7  , 160.   , 306.   ,\n",
       "        98.59 ,  92.7  , 147.51 , 197.2  , 167.6  , 165.   , 110.4  ,\n",
       "        73.97 , 147.9  ,  99.   , 116.6  , 148.   ,  34.2  , 155.   ,\n",
       "       197.   , 108.62 , 118.3  ,  38.4  , 241.38 , 153.86 , 163.5  ,\n",
       "       226.6  ,  84.8  ,  53.64 , 158.2  ,  69.01 , 181.03 ,  58.2  ,\n",
       "       104.68 , 126.24 ,  73.75 , 158.   , 130.2  ,  57.5  ,  97.7  ,\n",
       "       121.4  ,  98.96 , 174.5  , 308.   , 121.36 , 138.   , 265.   ,\n",
       "        84.   , 321.   ,  91.72 ,  65.3  ,  88.2  ,  93.   ,  35.5  ,\n",
       "        86.79 , 157.7  ,  40.3  ,  91.7  , 180.   , 114.4  , 158.8  ,\n",
       "       157.8  , 123.7  ,  56.3  , 189.   , 104.   , 210.   , 270.88 ,\n",
       "       142.   , 255.   , 236.   , 167.7  , 148.31 ,  80.46 , 138.08 ,\n",
       "       250.   ,  74.9  ,  91.2  , 102.57 ,  97.6  , 102.53 , 240.   ,\n",
       "       254.   , 112.4  ,  73.74 , 108.495, 116.9  , 101.   , 320.   ,\n",
       "        70.02 , 261.49 , 105.5  , 550.   , 168.7  ,  55.23 ,  94.68 ,\n",
       "       152.88 , 163.2  , 203.2  , 241.   ,  95.   , 200.   , 271.23 ,\n",
       "        63.12 ,  85.7  , 308.43 , 118.6  , 199.3  ,  83.83 ,  55.   ,\n",
       "        83.   , 300.   , 201.   , 262.6  , 163.   ,  58.33 ,  86.76 ,\n",
       "        76.9  , 174.57 , 301.73 ,  68.1  , 162.   , 394.3  ,  80.9  ,\n",
       "       147.5  , 272.   , 340.   , 120.33 ,  82.4  , 231.1  , 335.3  ,\n",
       "       333.   , 198.25 , 224.34 , 402.   , 261.   ,  61.   , 144.   ,\n",
       "        71.01 , 271.72 , 134.   , 135.1  ,  92.   ,  64.08 , 261.5  ,\n",
       "       123.37 , 175.67 ,  53.   , 110.5  , 178.4  , 193.1  , 395.   ,\n",
       "        48.21 , 450.   , 421.   ,  89.75 , 387.3  , 130.3  , 281.61 ,\n",
       "        52.8  , 139.01 , 208.   , 503.   , 168.   ,  98.82 , 139.07 ,\n",
       "        83.11 ,  74.93 , 382.   ,  74.96 , 552.   , 127.   , 560.   ,\n",
       "       116.4  , 161.6  , 488.1  , 103.   , 181.04 ])"
      ]
     },
     "execution_count": 29,
     "metadata": {},
     "output_type": "execute_result"
    }
   ],
   "source": [
    "df[\"Power\"].unique()"
   ]
  },
  {
   "cell_type": "code",
   "execution_count": 30,
   "id": "f3179879",
   "metadata": {},
   "outputs": [
    {
     "data": {
      "text/plain": [
       "1.7238493723849373"
      ]
     },
     "execution_count": 30,
     "metadata": {},
     "output_type": "execute_result"
    }
   ],
   "source": [
    "(df[\"Power\"].isna().sum()/df.shape[0])*100"
   ]
  },
  {
   "cell_type": "code",
   "execution_count": 31,
   "id": "a52f4ea0",
   "metadata": {},
   "outputs": [],
   "source": [
    "# less than 10%\n",
    "df.dropna(axis=0, inplace=True)"
   ]
  },
  {
   "cell_type": "code",
   "execution_count": 32,
   "id": "e441d324",
   "metadata": {},
   "outputs": [
    {
     "data": {
      "text/plain": [
       "array([ 5.,  7.,  8.,  4.,  6.,  2., 10.,  9.])"
      ]
     },
     "execution_count": 32,
     "metadata": {},
     "output_type": "execute_result"
    }
   ],
   "source": [
    "df[\"Seats\"].unique()"
   ]
  },
  {
   "cell_type": "code",
   "execution_count": 33,
   "id": "22213823",
   "metadata": {},
   "outputs": [],
   "source": [
    "# cast to int\n",
    "df[\"Seats\"] = df[\"Seats\"].astype(int)"
   ]
  },
  {
   "cell_type": "code",
   "execution_count": 34,
   "id": "503393ee",
   "metadata": {},
   "outputs": [
    {
     "data": {
      "text/plain": [
       "[1.75,\n",
       " 12.5,\n",
       " 4.5,\n",
       " 6.0,\n",
       " 17.74,\n",
       " 2.35,\n",
       " 3.5,\n",
       " 17.5,\n",
       " 5.2,\n",
       " 1.95,\n",
       " 9.95,\n",
       " 4.49,\n",
       " 5.6,\n",
       " 27.0,\n",
       " 15.0,\n",
       " 5.4,\n",
       " 5.99,\n",
       " 6.34,\n",
       " 28.0,\n",
       " 18.55,\n",
       " 8.25,\n",
       " 23.5,\n",
       " 1.87,\n",
       " 2.85,\n",
       " 4.25,\n",
       " 2.75,\n",
       " 9.9,\n",
       " 4.0,\n",
       " 7.75,\n",
       " 6.75,\n",
       " 11.5,\n",
       " 6.98,\n",
       " 1.85,\n",
       " 8.63,\n",
       " 4.85,\n",
       " 5.0,\n",
       " 1.25,\n",
       " 1.53,\n",
       " 5.58,\n",
       " 4.74,\n",
       " 8.85,\n",
       " 10.11,\n",
       " 10.95,\n",
       " 3.85,\n",
       " 5.5,\n",
       " 21.43,\n",
       " 3.3,\n",
       " 3.6,\n",
       " 3.99,\n",
       " 2.07,\n",
       " 2.25,\n",
       " 16.5,\n",
       " 26.7,\n",
       " 10.0,\n",
       " 2.5,\n",
       " 13.5,\n",
       " 35.67,\n",
       " 8.15,\n",
       " 10.5,\n",
       " 14.5,\n",
       " 9.65,\n",
       " 3.48,\n",
       " 6.92,\n",
       " 6.46,\n",
       " 29.5,\n",
       " 11.75,\n",
       " 3.75,\n",
       " 4.82,\n",
       " 2.8,\n",
       " 3.11,\n",
       " 3.25,\n",
       " 13.9,\n",
       " 5.75,\n",
       " 39.58,\n",
       " 8.1,\n",
       " 2.79,\n",
       " 3.45,\n",
       " 4.45,\n",
       " 2.65,\n",
       " 3.8,\n",
       " 4.65,\n",
       " 3.95,\n",
       " 9.8,\n",
       " 2.7,\n",
       " 2.41,\n",
       " 3.9,\n",
       " 24.0,\n",
       " 5.25,\n",
       " 19.25,\n",
       " 3.91,\n",
       " 2.15,\n",
       " 20.75,\n",
       " 3.35,\n",
       " 11.11,\n",
       " 20.0,\n",
       " 6.55,\n",
       " 7.0,\n",
       " 7.5,\n",
       " 16.75,\n",
       " 2.45,\n",
       " 3.23,\n",
       " 9.35,\n",
       " 7.25,\n",
       " 7.47,\n",
       " 13.25,\n",
       " 5.81,\n",
       " 2.6,\n",
       " 54.0,\n",
       " 1.6,\n",
       " 17.22,\n",
       " 17.95,\n",
       " 3.7,\n",
       " 5.43,\n",
       " 13.49,\n",
       " 4.75,\n",
       " 37.0,\n",
       " 26.5,\n",
       " 23.32,\n",
       " 6.25,\n",
       " 30.0,\n",
       " 9.86,\n",
       " 8.5,\n",
       " 4.23,\n",
       " 2.39,\n",
       " 11.25,\n",
       " 7.11,\n",
       " 10.9,\n",
       " 6.2,\n",
       " 7.9,\n",
       " 4.42,\n",
       " 2.1,\n",
       " 45.0,\n",
       " 33.66,\n",
       " 3.65,\n",
       " 42.5,\n",
       " 6.5,\n",
       " 19.0,\n",
       " 23.0,\n",
       " 8.35,\n",
       " 22.95,\n",
       " 1.5,\n",
       " 6.89,\n",
       " 1.45,\n",
       " 33.5,\n",
       " 4.2,\n",
       " 32.0,\n",
       " 4.6,\n",
       " 4.04,\n",
       " 10.31,\n",
       " 55.76,\n",
       " 3.55,\n",
       " 5.35,\n",
       " 9.0,\n",
       " 19.9,\n",
       " 3.0,\n",
       " 11.96,\n",
       " 5.95,\n",
       " 4.22,\n",
       " 2.9,\n",
       " 8.9,\n",
       " 26.0,\n",
       " 8.22,\n",
       " 39.41,\n",
       " 8.92,\n",
       " 0.85,\n",
       " 3.32,\n",
       " 6.8,\n",
       " 19.64,\n",
       " 3.87,\n",
       " 6.27,\n",
       " 18.12,\n",
       " 7.2,\n",
       " 14.3,\n",
       " 6.9,\n",
       " 10.75,\n",
       " 8.09,\n",
       " 18.5,\n",
       " 8.45,\n",
       " 1.8,\n",
       " 7.17,\n",
       " 21.99,\n",
       " 18.65,\n",
       " 61.29,\n",
       " 18.0,\n",
       " 4.35,\n",
       " 13.75,\n",
       " 2.0,\n",
       " 1.65,\n",
       " 45.77,\n",
       " 12.8,\n",
       " 0.55,\n",
       " 7.15,\n",
       " 3.26,\n",
       " 4.21,\n",
       " 70.36,\n",
       " 2.95,\n",
       " 4.28,\n",
       " 3.57,\n",
       " 5.96,\n",
       " 4.7,\n",
       " 1.35,\n",
       " 6.7,\n",
       " 3.1,\n",
       " 18.64,\n",
       " 20.25,\n",
       " 26.78,\n",
       " 8.26,\n",
       " 3.89,\n",
       " 12.69,\n",
       " 2.58,\n",
       " 20.77,\n",
       " 20.26,\n",
       " 57.0,\n",
       " 44.0,\n",
       " 2.05,\n",
       " 3.13,\n",
       " 10.6,\n",
       " 21.95,\n",
       " 49.0,\n",
       " 62.67,\n",
       " 1.4,\n",
       " 6.86,\n",
       " 6.15,\n",
       " 2.55,\n",
       " 3.4,\n",
       " 7.66,\n",
       " 25.99,\n",
       " 0.95,\n",
       " 52.0,\n",
       " 27.3,\n",
       " 0.65,\n",
       " 35.0,\n",
       " 17.75,\n",
       " 5.77,\n",
       " 9.49,\n",
       " 12.95,\n",
       " 1.0,\n",
       " 7.1,\n",
       " 3.2,\n",
       " 9.48,\n",
       " 11.77,\n",
       " 8.75,\n",
       " 34.5,\n",
       " 62.81,\n",
       " 11.0,\n",
       " 0.92,\n",
       " 53.83,\n",
       " 4.95,\n",
       " 27.95,\n",
       " 25.71,\n",
       " 29.67,\n",
       " 13.05,\n",
       " 25.5,\n",
       " 0.8,\n",
       " 70.99,\n",
       " 24.5,\n",
       " 12.03,\n",
       " 28.5,\n",
       " 9.89,\n",
       " 6.58,\n",
       " 4.06,\n",
       " 13.37,\n",
       " 25.82,\n",
       " 3.74,\n",
       " 22.0,\n",
       " 7.7,\n",
       " 13.77,\n",
       " 7.53,\n",
       " 7.98,\n",
       " 39.0,\n",
       " 20.37,\n",
       " 36.5,\n",
       " 48.91,\n",
       " 4.4,\n",
       " 2.22,\n",
       " 14.45,\n",
       " 51.43,\n",
       " 4.24,\n",
       " 28.42,\n",
       " 4.8,\n",
       " 56.0,\n",
       " 15.5,\n",
       " 2.32,\n",
       " 18.58,\n",
       " 4.15,\n",
       " 3.43,\n",
       " 13.0,\n",
       " 2.3,\n",
       " 13.56,\n",
       " 12.25,\n",
       " 3.76,\n",
       " 8.58,\n",
       " 27.5,\n",
       " 8.0,\n",
       " 45.64,\n",
       " 37.56,\n",
       " 9.29,\n",
       " 6.37,\n",
       " 2.98,\n",
       " 10.49,\n",
       " 8.36,\n",
       " 9.6,\n",
       " 38.99,\n",
       " 9.51,\n",
       " 29.4,\n",
       " 3.29,\n",
       " 9.5,\n",
       " 2.2,\n",
       " 4.9,\n",
       " 17.0,\n",
       " 5.65,\n",
       " 29.98,\n",
       " 7.39,\n",
       " 8.31,\n",
       " 12.3,\n",
       " 8.12,\n",
       " 6.12,\n",
       " 10.88,\n",
       " 33.0,\n",
       " 17.11,\n",
       " 29.77,\n",
       " 4.39,\n",
       " 24.22,\n",
       " 5.45,\n",
       " 24.82,\n",
       " 11.69,\n",
       " 48.5,\n",
       " 9.45,\n",
       " 5.8,\n",
       " 44.56,\n",
       " 10.7,\n",
       " 12.0,\n",
       " 2.44,\n",
       " 4.29,\n",
       " 12.46,\n",
       " 20.5,\n",
       " 25.0,\n",
       " 10.79,\n",
       " 5.9,\n",
       " 5.12,\n",
       " 5.7,\n",
       " 35.84,\n",
       " 9.19,\n",
       " 9.75,\n",
       " 37.93,\n",
       " 1.96,\n",
       " 75.0,\n",
       " 9.25,\n",
       " 23.89,\n",
       " 12.75,\n",
       " 3.27,\n",
       " 6.3,\n",
       " 11.31,\n",
       " 6.16,\n",
       " 3.15,\n",
       " 7.4,\n",
       " 1.55,\n",
       " 7.99,\n",
       " 4.1,\n",
       " 4.38,\n",
       " 55.54,\n",
       " 29.0,\n",
       " 6.6,\n",
       " 6.99,\n",
       " 18.75,\n",
       " 1.28,\n",
       " 1.2,\n",
       " 4.31,\n",
       " 5.64,\n",
       " 31.12,\n",
       " 25.46,\n",
       " 7.88,\n",
       " 36.0,\n",
       " 3.51,\n",
       " 19.5,\n",
       " 43.35,\n",
       " 3.52,\n",
       " 24.75,\n",
       " 9.1,\n",
       " 19.86,\n",
       " 7.83,\n",
       " 3.19,\n",
       " 1.15,\n",
       " 10.65,\n",
       " 35.68,\n",
       " 31.94,\n",
       " 15.46,\n",
       " 8.46,\n",
       " 35.55,\n",
       " 1.94,\n",
       " 15.65,\n",
       " 39.47,\n",
       " 17.9,\n",
       " 5.08,\n",
       " 22.75,\n",
       " 1.46,\n",
       " 4.08,\n",
       " 4.55,\n",
       " 14.0,\n",
       " 15.8,\n",
       " 15.54,\n",
       " 4.32,\n",
       " 5.85,\n",
       " 17.63,\n",
       " 55.0,\n",
       " 11.99,\n",
       " 13.54,\n",
       " 29.2,\n",
       " 6.35,\n",
       " 6.56,\n",
       " 23.29,\n",
       " 23.99,\n",
       " 1.79,\n",
       " 18.95,\n",
       " 2.49,\n",
       " 6.45,\n",
       " 7.14,\n",
       " 7.3,\n",
       " 8.2,\n",
       " 6.51,\n",
       " 6.21,\n",
       " 4.58,\n",
       " 4.09,\n",
       " 41.5,\n",
       " 12.07,\n",
       " 18.6,\n",
       " 10.99,\n",
       " 13.96,\n",
       " 7.77,\n",
       " 32.8,\n",
       " 0.7,\n",
       " 50.29,\n",
       " 5.57,\n",
       " 9.43,\n",
       " 3.68,\n",
       " 21.67,\n",
       " 19.92,\n",
       " 6.96,\n",
       " 8.65,\n",
       " 3.41,\n",
       " 6.85,\n",
       " 1.9,\n",
       " 21.8,\n",
       " 2.66,\n",
       " 8.07,\n",
       " 1.52,\n",
       " 3.61,\n",
       " 43.74,\n",
       " 58.0,\n",
       " 10.85,\n",
       " 5.53,\n",
       " 2.29,\n",
       " 9.14,\n",
       " 13.55,\n",
       " 59.72,\n",
       " 8.44,\n",
       " 12.49,\n",
       " 5.48,\n",
       " 5.83,\n",
       " 18.39,\n",
       " 6.93,\n",
       " 1.89,\n",
       " 39.5,\n",
       " 28.25,\n",
       " 4.94,\n",
       " 31.15,\n",
       " 2.4,\n",
       " 5.09,\n",
       " 1.05,\n",
       " 13.8,\n",
       " 5.15,\n",
       " 16.56,\n",
       " 16.0,\n",
       " 8.08,\n",
       " 4.3,\n",
       " 5.37,\n",
       " 6.1,\n",
       " 11.65,\n",
       " 9.4,\n",
       " 5.39,\n",
       " 8.51,\n",
       " 6.33,\n",
       " 2.47,\n",
       " 38.75,\n",
       " 13.28,\n",
       " 14.01,\n",
       " 67.0,\n",
       " 4.57,\n",
       " 7.61,\n",
       " 5.88,\n",
       " 12.41,\n",
       " 8.95,\n",
       " 7.94,\n",
       " 1.92,\n",
       " 8.73,\n",
       " 1.7,\n",
       " 64.0,\n",
       " 7.55,\n",
       " 7.35,\n",
       " 8.77,\n",
       " 3.42,\n",
       " 51.0,\n",
       " 6.01,\n",
       " 9.2,\n",
       " 38.94,\n",
       " 2.69,\n",
       " 51.35,\n",
       " 9.23,\n",
       " 5.19,\n",
       " 2.99,\n",
       " 11.73,\n",
       " 8.7,\n",
       " 5.04,\n",
       " 19.75,\n",
       " 11.44,\n",
       " 30.42,\n",
       " 9.57,\n",
       " 10.46,\n",
       " 5.68,\n",
       " 5.98,\n",
       " 4.77,\n",
       " 2.71,\n",
       " 11.37,\n",
       " 17.18,\n",
       " 11.57,\n",
       " 69.5,\n",
       " 20.4,\n",
       " 5.55,\n",
       " 18.98,\n",
       " 11.51,\n",
       " 38.0,\n",
       " 11.6,\n",
       " 6.4,\n",
       " 6.32,\n",
       " 0.77,\n",
       " 0.9,\n",
       " 1.1,\n",
       " 32.25,\n",
       " 21.0,\n",
       " 14.82,\n",
       " 40.0,\n",
       " 45.62,\n",
       " 6.24,\n",
       " 6.57,\n",
       " 6.95,\n",
       " 32.5,\n",
       " 15.75,\n",
       " 19.03,\n",
       " 15.25,\n",
       " 14.35,\n",
       " 11.97,\n",
       " 18.9,\n",
       " 5.1,\n",
       " 1.99,\n",
       " 27.35,\n",
       " 34.0,\n",
       " 21.56,\n",
       " 24.68,\n",
       " 3.67,\n",
       " 43.0,\n",
       " 15.95,\n",
       " 3.49,\n",
       " 16.57,\n",
       " 13.95,\n",
       " 6.06,\n",
       " 5.29,\n",
       " 5.72,\n",
       " 11.05,\n",
       " 4.83,\n",
       " 2.96,\n",
       " 8.4,\n",
       " 4.99,\n",
       " 8.18,\n",
       " 7.05,\n",
       " 70.0,\n",
       " 2.78,\n",
       " 14.4,\n",
       " 2.88,\n",
       " 3.34,\n",
       " 6.17,\n",
       " 42.0,\n",
       " 5.67,\n",
       " 1.69,\n",
       " 45.86,\n",
       " 14.49,\n",
       " 43.78,\n",
       " 11.45,\n",
       " 7.48,\n",
       " 2.59,\n",
       " 15.49,\n",
       " 7.85,\n",
       " 28.75,\n",
       " 1.59,\n",
       " 6.22,\n",
       " 32.44,\n",
       " 8.01,\n",
       " 6.48,\n",
       " 0.75,\n",
       " 5.05,\n",
       " 4.26,\n",
       " 8.91,\n",
       " 6.69,\n",
       " 6.02,\n",
       " 3.39,\n",
       " 12.4,\n",
       " 16.35,\n",
       " 21.94,\n",
       " 5.27,\n",
       " 2.48,\n",
       " 11.64,\n",
       " 8.99,\n",
       " 58.73,\n",
       " 17.49,\n",
       " 7.79,\n",
       " 8.27,\n",
       " 97.07,\n",
       " 28.79,\n",
       " 13.48,\n",
       " 32.1,\n",
       " 9.15,\n",
       " 22.55,\n",
       " 11.87,\n",
       " 9.85,\n",
       " 7.29,\n",
       " 6.73,\n",
       " 16.13,\n",
       " 7.23,\n",
       " 3.81,\n",
       " 12.6,\n",
       " 48.0,\n",
       " 3.08,\n",
       " 24.9,\n",
       " 23.25,\n",
       " 72.94,\n",
       " 3.02,\n",
       " 3.24,\n",
       " 5.21,\n",
       " 7.73,\n",
       " 7.8,\n",
       " 1.3,\n",
       " 5.38,\n",
       " 9.28,\n",
       " 7.56,\n",
       " 16.08,\n",
       " 2.51,\n",
       " 0.45,\n",
       " 30.29,\n",
       " 7.54,\n",
       " 6.84,\n",
       " 24.74,\n",
       " 11.79,\n",
       " 4.89,\n",
       " 7.08,\n",
       " 10.15,\n",
       " 7.78,\n",
       " 2.74,\n",
       " 4.76,\n",
       " 6.26,\n",
       " 32.95,\n",
       " 4.86,\n",
       " 7.06,\n",
       " 3.22,\n",
       " 4.53,\n",
       " 34.78,\n",
       " 8.37,\n",
       " 37.3,\n",
       " 70.8,\n",
       " 22.25,\n",
       " 6.03,\n",
       " 3.96,\n",
       " 26.75,\n",
       " 28.03,\n",
       " 5.44,\n",
       " 0.44,\n",
       " 30.48,\n",
       " 0.99,\n",
       " 8.34,\n",
       " 8.48,\n",
       " 5.63,\n",
       " 2.62,\n",
       " 30.8,\n",
       " 14.12,\n",
       " 3.69,\n",
       " 13.12,\n",
       " 10.4,\n",
       " 5.23,\n",
       " 5.71,\n",
       " 5.49,\n",
       " 12.99,\n",
       " 5.22,\n",
       " 7.27,\n",
       " 1.38,\n",
       " 5.89,\n",
       " 7.95,\n",
       " 17.45,\n",
       " 9.58,\n",
       " 27.75,\n",
       " 64.87,\n",
       " 17.25,\n",
       " 19.41,\n",
       " 40.5,\n",
       " 38.95,\n",
       " 7.12,\n",
       " 7.52,\n",
       " 10.35,\n",
       " 7.65,\n",
       " 10.1,\n",
       " 19.65,\n",
       " 7.07,\n",
       " 79.0,\n",
       " 8.89,\n",
       " 10.97,\n",
       " 24.94,\n",
       " 1.97,\n",
       " 16.11,\n",
       " 10.55,\n",
       " 18.49,\n",
       " 9.96,\n",
       " 11.82,\n",
       " 20.12,\n",
       " 13.19,\n",
       " 2.21,\n",
       " 48.63,\n",
       " 22.24,\n",
       " 9.99,\n",
       " 8.29,\n",
       " 5.79,\n",
       " 30.5,\n",
       " 13.35,\n",
       " 22.5,\n",
       " 1.37,\n",
       " 9.3,\n",
       " 31.62,\n",
       " 93.67,\n",
       " 1.51,\n",
       " 6.09,\n",
       " 93.0,\n",
       " 21.6,\n",
       " 17.02,\n",
       " 41.0,\n",
       " 6.64,\n",
       " 6.76,\n",
       " 6.29,\n",
       " 4.12,\n",
       " 10.25,\n",
       " 4.88,\n",
       " 2.11,\n",
       " 7.6,\n",
       " 7.45,\n",
       " 6.36,\n",
       " 11.62,\n",
       " 43.6,\n",
       " 3.05,\n",
       " 19.05,\n",
       " 11.9,\n",
       " 8.41,\n",
       " 3.94,\n",
       " 83.96,\n",
       " 11.27,\n",
       " 13.52,\n",
       " 56.73,\n",
       " 7.89,\n",
       " 39.45,\n",
       " 5.84,\n",
       " 7.74,\n",
       " 31.0,\n",
       " 10.3,\n",
       " 34.08,\n",
       " 5.34,\n",
       " 31.99,\n",
       " 38.5,\n",
       " 8.42,\n",
       " 33.63,\n",
       " 25.02,\n",
       " 4.02,\n",
       " 8.6,\n",
       " 41.6,\n",
       " 7.41,\n",
       " 29.6,\n",
       " 24.36,\n",
       " 3.58,\n",
       " 46.0,\n",
       " 6.53,\n",
       " 6.71,\n",
       " 6.63,\n",
       " 14.21,\n",
       " 5.11,\n",
       " 22.99,\n",
       " 13.7,\n",
       " 5.02,\n",
       " 3.59,\n",
       " 12.9,\n",
       " 22.58,\n",
       " 29.93,\n",
       " 1.02,\n",
       " 11.03,\n",
       " 7.58,\n",
       " 9.18,\n",
       " 1.74,\n",
       " 12.34,\n",
       " 54.45,\n",
       " 78.8,\n",
       " 9.69,\n",
       " 65.0,\n",
       " 2.19,\n",
       " 28.9,\n",
       " 7.22,\n",
       " 10.36,\n",
       " 1.67,\n",
       " 9.74,\n",
       " 21.5,\n",
       " 3.16,\n",
       " 6.68,\n",
       " 8.11,\n",
       " 8.3,\n",
       " 45.61,\n",
       " 16.52,\n",
       " 14.05,\n",
       " 23.65,\n",
       " 18.06,\n",
       " 6.42,\n",
       " 5.92,\n",
       " 20.28,\n",
       " 17.99,\n",
       " 3.12,\n",
       " 39.22,\n",
       " 10.45,\n",
       " 6.14,\n",
       " 21.75,\n",
       " 18.25,\n",
       " 8.47,\n",
       " 9.32,\n",
       " 27.43,\n",
       " 31.8,\n",
       " 9.38,\n",
       " 4.78,\n",
       " 17.85,\n",
       " 3.82,\n",
       " 25.75,\n",
       " 56.5,\n",
       " 3.83,\n",
       " 1.36,\n",
       " 16.61,\n",
       " 7.26,\n",
       " 34.51,\n",
       " 36.75,\n",
       " 4.05,\n",
       " 27.87,\n",
       " 4.79,\n",
       " 11.92,\n",
       " 53.11,\n",
       " 70.15,\n",
       " 7.57,\n",
       " 60.0,\n",
       " 23.45,\n",
       " 21.69,\n",
       " 5.17,\n",
       " 20.14,\n",
       " 6.61,\n",
       " 13.23,\n",
       " 9.47,\n",
       " 4.52,\n",
       " 20.04,\n",
       " 52.5,\n",
       " 6.97,\n",
       " 2.61,\n",
       " 0.5,\n",
       " 31.5,\n",
       " 4.92,\n",
       " 17.55,\n",
       " 4.96,\n",
       " 3.21,\n",
       " 14.25,\n",
       " 5.91,\n",
       " 6.44,\n",
       " 7.21,\n",
       " 18.46,\n",
       " 27.15,\n",
       " 3.63,\n",
       " 30.27,\n",
       " 3.36,\n",
       " 10.34,\n",
       " 51.52,\n",
       " 8.62,\n",
       " 5.47,\n",
       " 35.98,\n",
       " 7.33,\n",
       " 3.54,\n",
       " 9.13,\n",
       " 14.79,\n",
       " 5.86,\n",
       " 39.62,\n",
       " 17.92,\n",
       " 59.29,\n",
       " 3.31,\n",
       " 8.79,\n",
       " 4.73,\n",
       " 34.54,\n",
       " 6.07,\n",
       " 7.76,\n",
       " 7.46,\n",
       " 11.88,\n",
       " 50.0,\n",
       " 7.36,\n",
       " 4.11,\n",
       " 64.95,\n",
       " 7.87,\n",
       " 7.31,\n",
       " 8.19,\n",
       " 4.41,\n",
       " 17.98,\n",
       " 7.71,\n",
       " 32.64,\n",
       " 9.46,\n",
       " 5.18,\n",
       " 1.24,\n",
       " 16.25,\n",
       " 33.13,\n",
       " 20.57,\n",
       " 9.92,\n",
       " 8.59,\n",
       " 10.44,\n",
       " 3.37,\n",
       " 50.5,\n",
       " 23.91,\n",
       " 17.65,\n",
       " 44.83,\n",
       " 14.22,\n",
       " 39.51,\n",
       " 3.78,\n",
       " 16.9,\n",
       " 4.34,\n",
       " 28.45,\n",
       " 42.91,\n",
       " 14.76,\n",
       " 10.69,\n",
       " 2.87,\n",
       " 4.59,\n",
       " 19.85,\n",
       " 47.7,\n",
       " 6.43,\n",
       " 39.75,\n",
       " 7.49,\n",
       " 28.88,\n",
       " 14.23,\n",
       " 20.99,\n",
       " 5.36,\n",
       " 55.7,\n",
       " 37.5,\n",
       " 4.07,\n",
       " 6.67,\n",
       " 34.88,\n",
       " 16.95,\n",
       " 4.68,\n",
       " 29.8,\n",
       " 3.46,\n",
       " 5.87,\n",
       " 3.88,\n",
       " 13.08,\n",
       " 24.63,\n",
       " 8.61,\n",
       " 2.02,\n",
       " 4.64,\n",
       " 3.38,\n",
       " 16.8,\n",
       " 36.15,\n",
       " 25.7,\n",
       " 9.24,\n",
       " 25.31,\n",
       " 21.73,\n",
       " 31.55,\n",
       " 27.36,\n",
       " 28.63,\n",
       " 3.72,\n",
       " 14.36,\n",
       " 6.08,\n",
       " 24.77,\n",
       " 35.5,\n",
       " 7.51,\n",
       " 6.91,\n",
       " 4.51,\n",
       " 49.22,\n",
       " 11.52,\n",
       " 23.41,\n",
       " 8.94,\n",
       " 7.34,\n",
       " 59.65,\n",
       " 1.88,\n",
       " 23.8,\n",
       " 4.17,\n",
       " 12.01,\n",
       " 13.69,\n",
       " 8.87,\n",
       " 25.93,\n",
       " 25.12,\n",
       " 4.33,\n",
       " 3.33,\n",
       " 6.62,\n",
       " 6.11,\n",
       " 11.15,\n",
       " ...]"
      ]
     },
     "execution_count": 34,
     "metadata": {},
     "output_type": "execute_result"
    }
   ],
   "source": [
    "list(df[\"Price\"].unique())"
   ]
  },
  {
   "cell_type": "code",
   "execution_count": 35,
   "id": "f4531a84",
   "metadata": {},
   "outputs": [
    {
     "name": "stdout",
     "output_type": "stream",
     "text": [
      "<class 'pandas.core.frame.DataFrame'>\n",
      "Int64Index: 5872 entries, 0 to 6018\n",
      "Data columns (total 13 columns):\n",
      " #   Column             Non-Null Count  Dtype  \n",
      "---  ------             --------------  -----  \n",
      " 0   Name               5872 non-null   object \n",
      " 1   Location           5872 non-null   object \n",
      " 2   Year               5872 non-null   int64  \n",
      " 3   Kilometers_Driven  5872 non-null   int64  \n",
      " 4   Fuel_Type          5872 non-null   object \n",
      " 5   Transmission       5872 non-null   object \n",
      " 6   Owner_Type         5872 non-null   object \n",
      " 7   Mileage            5872 non-null   float64\n",
      " 8   Engine             5872 non-null   int32  \n",
      " 9   Power              5872 non-null   float64\n",
      " 10  Seats              5872 non-null   int32  \n",
      " 11  Price              5872 non-null   float64\n",
      " 12  Brand              5872 non-null   object \n",
      "dtypes: float64(3), int32(2), int64(2), object(6)\n",
      "memory usage: 596.4+ KB\n"
     ]
    }
   ],
   "source": [
    "df.info()"
   ]
  },
  {
   "cell_type": "code",
   "execution_count": 36,
   "id": "4ab01501",
   "metadata": {},
   "outputs": [
    {
     "data": {
      "text/html": [
       "<div>\n",
       "<style scoped>\n",
       "    .dataframe tbody tr th:only-of-type {\n",
       "        vertical-align: middle;\n",
       "    }\n",
       "\n",
       "    .dataframe tbody tr th {\n",
       "        vertical-align: top;\n",
       "    }\n",
       "\n",
       "    .dataframe thead th {\n",
       "        text-align: right;\n",
       "    }\n",
       "</style>\n",
       "<table border=\"1\" class=\"dataframe\">\n",
       "  <thead>\n",
       "    <tr style=\"text-align: right;\">\n",
       "      <th></th>\n",
       "      <th>Name</th>\n",
       "      <th>Location</th>\n",
       "      <th>Year</th>\n",
       "      <th>Kilometers_Driven</th>\n",
       "      <th>Fuel_Type</th>\n",
       "      <th>Transmission</th>\n",
       "      <th>Owner_Type</th>\n",
       "      <th>Mileage</th>\n",
       "      <th>Engine</th>\n",
       "      <th>Power</th>\n",
       "      <th>Seats</th>\n",
       "      <th>Price</th>\n",
       "      <th>Brand</th>\n",
       "    </tr>\n",
       "  </thead>\n",
       "  <tbody>\n",
       "    <tr>\n",
       "      <th>0</th>\n",
       "      <td>Maruti Wagon R LXI CNG</td>\n",
       "      <td>Mumbai</td>\n",
       "      <td>2010</td>\n",
       "      <td>72000</td>\n",
       "      <td>CNG</td>\n",
       "      <td>Manual</td>\n",
       "      <td>First</td>\n",
       "      <td>26.60</td>\n",
       "      <td>998</td>\n",
       "      <td>58.16</td>\n",
       "      <td>5</td>\n",
       "      <td>1.75</td>\n",
       "      <td>Maruti</td>\n",
       "    </tr>\n",
       "    <tr>\n",
       "      <th>1</th>\n",
       "      <td>Hyundai Creta 1.6 CRDi SX Option</td>\n",
       "      <td>Pune</td>\n",
       "      <td>2015</td>\n",
       "      <td>41000</td>\n",
       "      <td>Diesel</td>\n",
       "      <td>Manual</td>\n",
       "      <td>First</td>\n",
       "      <td>19.67</td>\n",
       "      <td>1582</td>\n",
       "      <td>126.20</td>\n",
       "      <td>5</td>\n",
       "      <td>12.50</td>\n",
       "      <td>Hyundai</td>\n",
       "    </tr>\n",
       "    <tr>\n",
       "      <th>2</th>\n",
       "      <td>Honda Jazz V</td>\n",
       "      <td>Chennai</td>\n",
       "      <td>2011</td>\n",
       "      <td>46000</td>\n",
       "      <td>Petrol</td>\n",
       "      <td>Manual</td>\n",
       "      <td>First</td>\n",
       "      <td>18.20</td>\n",
       "      <td>1199</td>\n",
       "      <td>88.70</td>\n",
       "      <td>5</td>\n",
       "      <td>4.50</td>\n",
       "      <td>Honda</td>\n",
       "    </tr>\n",
       "    <tr>\n",
       "      <th>3</th>\n",
       "      <td>Maruti Ertiga VDI</td>\n",
       "      <td>Chennai</td>\n",
       "      <td>2012</td>\n",
       "      <td>87000</td>\n",
       "      <td>Diesel</td>\n",
       "      <td>Manual</td>\n",
       "      <td>First</td>\n",
       "      <td>20.77</td>\n",
       "      <td>1248</td>\n",
       "      <td>88.76</td>\n",
       "      <td>7</td>\n",
       "      <td>6.00</td>\n",
       "      <td>Maruti</td>\n",
       "    </tr>\n",
       "    <tr>\n",
       "      <th>4</th>\n",
       "      <td>Audi A4 New 2.0 TDI Multitronic</td>\n",
       "      <td>Coimbatore</td>\n",
       "      <td>2013</td>\n",
       "      <td>40670</td>\n",
       "      <td>Diesel</td>\n",
       "      <td>Automatic</td>\n",
       "      <td>Second</td>\n",
       "      <td>15.20</td>\n",
       "      <td>1968</td>\n",
       "      <td>140.80</td>\n",
       "      <td>5</td>\n",
       "      <td>17.74</td>\n",
       "      <td>Audi</td>\n",
       "    </tr>\n",
       "  </tbody>\n",
       "</table>\n",
       "</div>"
      ],
      "text/plain": [
       "                               Name    Location  Year  Kilometers_Driven  \\\n",
       "0            Maruti Wagon R LXI CNG      Mumbai  2010              72000   \n",
       "1  Hyundai Creta 1.6 CRDi SX Option        Pune  2015              41000   \n",
       "2                      Honda Jazz V     Chennai  2011              46000   \n",
       "3                 Maruti Ertiga VDI     Chennai  2012              87000   \n",
       "4   Audi A4 New 2.0 TDI Multitronic  Coimbatore  2013              40670   \n",
       "\n",
       "  Fuel_Type Transmission Owner_Type  Mileage  Engine   Power  Seats  Price  \\\n",
       "0       CNG       Manual      First    26.60     998   58.16      5   1.75   \n",
       "1    Diesel       Manual      First    19.67    1582  126.20      5  12.50   \n",
       "2    Petrol       Manual      First    18.20    1199   88.70      5   4.50   \n",
       "3    Diesel       Manual      First    20.77    1248   88.76      7   6.00   \n",
       "4    Diesel    Automatic     Second    15.20    1968  140.80      5  17.74   \n",
       "\n",
       "     Brand  \n",
       "0   Maruti  \n",
       "1  Hyundai  \n",
       "2    Honda  \n",
       "3   Maruti  \n",
       "4     Audi  "
      ]
     },
     "execution_count": 36,
     "metadata": {},
     "output_type": "execute_result"
    }
   ],
   "source": [
    "df.head()"
   ]
  },
  {
   "cell_type": "code",
   "execution_count": 38,
   "id": "c54770fe",
   "metadata": {},
   "outputs": [],
   "source": [
    "# df.name = df.name.apply(lambda x:\" \".join(x.split()[:2]))\n",
    "# df[['name','brand']]"
   ]
  },
  {
   "cell_type": "code",
   "execution_count": 39,
   "id": "db954e39",
   "metadata": {},
   "outputs": [],
   "source": [
    "df.to_csv('Data/cleaned_used_cars_price.csv')"
   ]
  },
  {
   "cell_type": "markdown",
   "id": "957d577a",
   "metadata": {},
   "source": [
    "## Outliers"
   ]
  },
  {
   "cell_type": "code",
   "execution_count": 48,
   "id": "03195ce6",
   "metadata": {},
   "outputs": [
    {
     "data": {
      "text/plain": [
       "<Axes: >"
      ]
     },
     "execution_count": 48,
     "metadata": {},
     "output_type": "execute_result"
    },
    {
     "data": {
      "image/png": "[encoded data removed]",
      "text/plain": [
       "<Figure size 640x480 with 1 Axes>"
      ]
     },
     "metadata": {},
     "output_type": "display_data"
    }
   ],
   "source": [
    "sns.boxplot(data=df[\"Kilometers_Driven\"])"
   ]
  },
  {
   "cell_type": "code",
   "execution_count": 58,
   "id": "a6995c64",
   "metadata": {},
   "outputs": [
    {
     "data": {
      "text/plain": [
       "2269    6500000\n",
       "327      775000\n",
       "1813     720000\n",
       "345      620000\n",
       "3010     480000\n",
       "         ...   \n",
       "1209       1000\n",
       "2004       1000\n",
       "5206       1000\n",
       "5468        600\n",
       "1323        171\n",
       "Name: Kilometers_Driven, Length: 5872, dtype: int64"
      ]
     },
     "execution_count": 58,
     "metadata": {},
     "output_type": "execute_result"
    }
   ],
   "source": [
    "df[\"Kilometers_Driven\"].sort_values(ascending=False)"
   ]
  },
  {
   "cell_type": "code",
   "execution_count": 59,
   "id": "ad74b228",
   "metadata": {},
   "outputs": [],
   "source": [
    "# drop 6500000\n",
    "df.drop(index=2269, inplace=True)"
   ]
  },
  {
   "cell_type": "code",
   "execution_count": 64,
   "id": "8eb1e34d",
   "metadata": {},
   "outputs": [
    {
     "data": {
      "text/plain": [
       "<Axes: >"
      ]
     },
     "execution_count": 64,
     "metadata": {},
     "output_type": "execute_result"
    },
    {
     "data": {
      "image/png": "[encoded data removed]",
      "text/plain": [
       "<Figure size 640x480 with 1 Axes>"
      ]
     },
     "metadata": {},
     "output_type": "display_data"
    }
   ],
   "source": [
    "sns.boxplot(data=df[\"Kilometers_Driven\"])"
   ]
  },
  {
   "cell_type": "code",
   "execution_count": 65,
   "id": "1d9cd3ce",
   "metadata": {},
   "outputs": [
    {
     "data": {
      "text/html": [
       "<div>\n",
       "<style scoped>\n",
       "    .dataframe tbody tr th:only-of-type {\n",
       "        vertical-align: middle;\n",
       "    }\n",
       "\n",
       "    .dataframe tbody tr th {\n",
       "        vertical-align: top;\n",
       "    }\n",
       "\n",
       "    .dataframe thead th {\n",
       "        text-align: right;\n",
       "    }\n",
       "</style>\n",
       "<table border=\"1\" class=\"dataframe\">\n",
       "  <thead>\n",
       "    <tr style=\"text-align: right;\">\n",
       "      <th></th>\n",
       "      <th>Location</th>\n",
       "      <th>Year</th>\n",
       "      <th>Kilometers_Driven</th>\n",
       "      <th>Fuel_Type</th>\n",
       "      <th>Transmission</th>\n",
       "      <th>Owner_Type</th>\n",
       "      <th>Mileage</th>\n",
       "      <th>Engine</th>\n",
       "      <th>Power</th>\n",
       "      <th>Seats</th>\n",
       "      <th>Price</th>\n",
       "      <th>Brand</th>\n",
       "    </tr>\n",
       "  </thead>\n",
       "  <tbody>\n",
       "    <tr>\n",
       "      <th>327</th>\n",
       "      <td>Kolkata</td>\n",
       "      <td>2013</td>\n",
       "      <td>775000</td>\n",
       "      <td>Diesel</td>\n",
       "      <td>Automatic</td>\n",
       "      <td>First</td>\n",
       "      <td>19.30</td>\n",
       "      <td>1968</td>\n",
       "      <td>141.00</td>\n",
       "      <td>5</td>\n",
       "      <td>7.50</td>\n",
       "      <td>Skoda</td>\n",
       "    </tr>\n",
       "    <tr>\n",
       "      <th>345</th>\n",
       "      <td>Chennai</td>\n",
       "      <td>2009</td>\n",
       "      <td>620000</td>\n",
       "      <td>Petrol</td>\n",
       "      <td>Manual</td>\n",
       "      <td>First</td>\n",
       "      <td>20.36</td>\n",
       "      <td>1197</td>\n",
       "      <td>78.90</td>\n",
       "      <td>5</td>\n",
       "      <td>2.70</td>\n",
       "      <td>Hyundai</td>\n",
       "    </tr>\n",
       "    <tr>\n",
       "      <th>1813</th>\n",
       "      <td>Chennai</td>\n",
       "      <td>2013</td>\n",
       "      <td>720000</td>\n",
       "      <td>Diesel</td>\n",
       "      <td>Manual</td>\n",
       "      <td>First</td>\n",
       "      <td>20.54</td>\n",
       "      <td>1598</td>\n",
       "      <td>103.60</td>\n",
       "      <td>5</td>\n",
       "      <td>5.90</td>\n",
       "      <td>Volkswagen</td>\n",
       "    </tr>\n",
       "    <tr>\n",
       "      <th>2745</th>\n",
       "      <td>Chennai</td>\n",
       "      <td>2015</td>\n",
       "      <td>480000</td>\n",
       "      <td>Diesel</td>\n",
       "      <td>Automatic</td>\n",
       "      <td>First</td>\n",
       "      <td>16.96</td>\n",
       "      <td>1968</td>\n",
       "      <td>138.03</td>\n",
       "      <td>5</td>\n",
       "      <td>13.00</td>\n",
       "      <td>Volkswagen</td>\n",
       "    </tr>\n",
       "    <tr>\n",
       "      <th>3010</th>\n",
       "      <td>Kolkata</td>\n",
       "      <td>2015</td>\n",
       "      <td>480000</td>\n",
       "      <td>Petrol</td>\n",
       "      <td>Manual</td>\n",
       "      <td>First</td>\n",
       "      <td>17.40</td>\n",
       "      <td>1497</td>\n",
       "      <td>117.30</td>\n",
       "      <td>5</td>\n",
       "      <td>5.00</td>\n",
       "      <td>Honda</td>\n",
       "    </tr>\n",
       "    <tr>\n",
       "      <th>4378</th>\n",
       "      <td>Bangalore</td>\n",
       "      <td>2013</td>\n",
       "      <td>445000</td>\n",
       "      <td>Petrol</td>\n",
       "      <td>Manual</td>\n",
       "      <td>First</td>\n",
       "      <td>18.50</td>\n",
       "      <td>1197</td>\n",
       "      <td>82.90</td>\n",
       "      <td>5</td>\n",
       "      <td>4.45</td>\n",
       "      <td>Hyundai</td>\n",
       "    </tr>\n",
       "  </tbody>\n",
       "</table>\n",
       "</div>"
      ],
      "text/plain": [
       "       Location  Year  Kilometers_Driven Fuel_Type Transmission Owner_Type  \\\n",
       "327     Kolkata  2013             775000    Diesel    Automatic      First   \n",
       "345     Chennai  2009             620000    Petrol       Manual      First   \n",
       "1813    Chennai  2013             720000    Diesel       Manual      First   \n",
       "2745    Chennai  2015             480000    Diesel    Automatic      First   \n",
       "3010    Kolkata  2015             480000    Petrol       Manual      First   \n",
       "4378  Bangalore  2013             445000    Petrol       Manual      First   \n",
       "\n",
       "      Mileage  Engine   Power  Seats  Price       Brand  \n",
       "327     19.30    1968  141.00      5   7.50       Skoda  \n",
       "345     20.36    1197   78.90      5   2.70     Hyundai  \n",
       "1813    20.54    1598  103.60      5   5.90  Volkswagen  \n",
       "2745    16.96    1968  138.03      5  13.00  Volkswagen  \n",
       "3010    17.40    1497  117.30      5   5.00       Honda  \n",
       "4378    18.50    1197   82.90      5   4.45     Hyundai  "
      ]
     },
     "execution_count": 65,
     "metadata": {},
     "output_type": "execute_result"
    }
   ],
   "source": [
    "df[df[\"Kilometers_Driven\"] > 300000]"
   ]
  },
  {
   "cell_type": "code",
   "execution_count": 71,
   "id": "19197c14",
   "metadata": {},
   "outputs": [
    {
     "data": {
      "text/plain": [
       "3.372508942258559"
      ]
     },
     "execution_count": 71,
     "metadata": {},
     "output_type": "execute_result"
    }
   ],
   "source": [
    "kilos_indices = detect_outliers(df, 0, [\"Kilometers_Driven\"])\n",
    "(len(kilos_indices)/df.shape[0])*100"
   ]
  },
  {
   "cell_type": "code",
   "execution_count": 72,
   "id": "824c43e0",
   "metadata": {},
   "outputs": [],
   "source": [
    "df.drop(kilos_indices, axis=0, inplace=True)"
   ]
  },
  {
   "cell_type": "code",
   "execution_count": 49,
   "id": "5b444619",
   "metadata": {},
   "outputs": [
    {
     "data": {
      "text/plain": [
       "<Axes: >"
      ]
     },
     "execution_count": 49,
     "metadata": {},
     "output_type": "execute_result"
    },
    {
     "data": {
      "image/png": "[encoded data removed]",
      "text/plain": [
       "<Figure size 640x480 with 1 Axes>"
      ]
     },
     "metadata": {},
     "output_type": "display_data"
    }
   ],
   "source": [
    "sns.boxplot(data=df[\"Mileage\"])"
   ]
  },
  {
   "cell_type": "code",
   "execution_count": 76,
   "id": "df9b2d6b",
   "metadata": {},
   "outputs": [
    {
     "data": {
      "text/plain": [
       "0.74034902168165"
      ]
     },
     "execution_count": 76,
     "metadata": {},
     "output_type": "execute_result"
    }
   ],
   "source": [
    "mileage_indeces = detect_outliers(df, 0, [\"Mileage\"])\n",
    "(len(mileage_indeces)/df.shape[0])*100"
   ]
  },
  {
   "cell_type": "code",
   "execution_count": 77,
   "id": "50f16931",
   "metadata": {},
   "outputs": [],
   "source": [
    "df.drop(mileage_indeces, axis=0, inplace=True)"
   ]
  },
  {
   "cell_type": "code",
   "execution_count": 50,
   "id": "ccd74987",
   "metadata": {},
   "outputs": [
    {
     "data": {
      "text/plain": [
       "<Axes: >"
      ]
     },
     "execution_count": 50,
     "metadata": {},
     "output_type": "execute_result"
    },
    {
     "data": {
      "image/png": "[encoded data removed]",
      "text/plain": [
       "<Figure size 640x480 with 1 Axes>"
      ]
     },
     "metadata": {},
     "output_type": "display_data"
    }
   ],
   "source": [
    "sns.boxplot(data=df[\"Engine\"])"
   ]
  },
  {
   "cell_type": "code",
   "execution_count": 78,
   "id": "656e5c15",
   "metadata": {},
   "outputs": [
    {
     "data": {
      "text/plain": [
       "0.9589770911028237"
      ]
     },
     "execution_count": 78,
     "metadata": {},
     "output_type": "execute_result"
    }
   ],
   "source": [
    "engine_indeces = detect_outliers(df, 0, [\"Engine\"])\n",
    "(len(engine_indeces)/df.shape[0])*100"
   ]
  },
  {
   "cell_type": "code",
   "execution_count": 79,
   "id": "72d03ae1",
   "metadata": {},
   "outputs": [],
   "source": [
    "df.drop(engine_indeces, axis=0, inplace=True)"
   ]
  },
  {
   "cell_type": "code",
   "execution_count": 51,
   "id": "7ee8b197",
   "metadata": {},
   "outputs": [
    {
     "data": {
      "text/plain": [
       "<Axes: >"
      ]
     },
     "execution_count": 51,
     "metadata": {},
     "output_type": "execute_result"
    },
    {
     "data": {
      "image/png": "[encoded data removed]",
      "text/plain": [
       "<Figure size 640x480 with 1 Axes>"
      ]
     },
     "metadata": {},
     "output_type": "display_data"
    }
   ],
   "source": [
    "sns.boxplot(data=df[\"Power\"])"
   ]
  },
  {
   "cell_type": "code",
   "execution_count": 80,
   "id": "32986796",
   "metadata": {},
   "outputs": [
    {
     "data": {
      "text/plain": [
       "3.442711135018827"
      ]
     },
     "execution_count": 80,
     "metadata": {},
     "output_type": "execute_result"
    }
   ],
   "source": [
    "power_indeces = detect_outliers(df, 0, [\"Power\"])\n",
    "(len(power_indeces)/df.shape[0])*100"
   ]
  },
  {
   "cell_type": "code",
   "execution_count": 81,
   "id": "d26e83ef",
   "metadata": {},
   "outputs": [],
   "source": [
    "# Calculate the 95th percentile of the Power column\n",
    "percentile_95 = df[\"Power\"].quantile(0.95)\n",
    "\n",
    "# Replace values above the 95th percentile with the 95th percentile value\n",
    "df[\"Power\"] = df[\"Power\"].apply(lambda x: percentile_95 if x > percentile_95 else x)\n"
   ]
  },
  {
   "cell_type": "code",
   "execution_count": 82,
   "id": "29655ca8",
   "metadata": {},
   "outputs": [
    {
     "data": {
      "text/plain": [
       "<Axes: >"
      ]
     },
     "execution_count": 82,
     "metadata": {},
     "output_type": "execute_result"
    },
    {
     "data": {
      "image/png": "[encoded data removed]",
      "text/plain": [
       "<Figure size 640x480 with 1 Axes>"
      ]
     },
     "metadata": {},
     "output_type": "display_data"
    }
   ],
   "source": [
    "sns.boxplot(data=df[\"Power\"])"
   ]
  },
  {
   "cell_type": "code",
   "execution_count": 52,
   "id": "122c0aab",
   "metadata": {},
   "outputs": [
    {
     "data": {
      "text/plain": [
       "<Axes: >"
      ]
     },
     "execution_count": 52,
     "metadata": {},
     "output_type": "execute_result"
    },
    {
     "data": {
      "image/png": "[encoded data removed]",
      "text/plain": [
       "<Figure size 640x480 with 1 Axes>"
      ]
     },
     "metadata": {},
     "output_type": "display_data"
    }
   ],
   "source": [
    "sns.boxplot(data=df[\"Seats\"])"
   ]
  },
  {
   "cell_type": "code",
   "execution_count": 89,
   "id": "71c775b5",
   "metadata": {},
   "outputs": [
    {
     "data": {
      "text/plain": [
       "5     4757\n",
       "7      588\n",
       "8      108\n",
       "4       83\n",
       "6       27\n",
       "2        7\n",
       "10       4\n",
       "9        2\n",
       "Name: Seats, dtype: int64"
      ]
     },
     "execution_count": 89,
     "metadata": {},
     "output_type": "execute_result"
    }
   ],
   "source": [
    "df[\"Seats\"].value_counts()"
   ]
  },
  {
   "cell_type": "code",
   "execution_count": 83,
   "id": "73ed5f50",
   "metadata": {},
   "outputs": [
    {
     "data": {
      "text/plain": [
       "<Axes: >"
      ]
     },
     "execution_count": 83,
     "metadata": {},
     "output_type": "execute_result"
    },
    {
     "data": {
      "image/png": "[encoded data removed]",
      "text/plain": [
       "<Figure size 640x480 with 1 Axes>"
      ]
     },
     "metadata": {},
     "output_type": "display_data"
    }
   ],
   "source": [
    "sns.boxplot(data=df[\"Price\"])"
   ]
  },
  {
   "cell_type": "code",
   "execution_count": 84,
   "id": "afe23509",
   "metadata": {},
   "outputs": [
    {
     "data": {
      "text/plain": [
       "3972    160.00\n",
       "1463     97.07\n",
       "1926     93.67\n",
       "1936     93.00\n",
       "5397     85.00\n",
       "         ...  \n",
       "3144      0.50\n",
       "3055      0.45\n",
       "1584      0.45\n",
       "2768      0.45\n",
       "1667      0.44\n",
       "Name: Price, Length: 5577, dtype: float64"
      ]
     },
     "execution_count": 84,
     "metadata": {},
     "output_type": "execute_result"
    }
   ],
   "source": [
    "df[\"Price\"].sort_values(ascending=False)"
   ]
  },
  {
   "cell_type": "code",
   "execution_count": 85,
   "id": "d71ae5c4",
   "metadata": {},
   "outputs": [],
   "source": [
    "df.drop(3972, axis=0, inplace=True)"
   ]
  },
  {
   "cell_type": "code",
   "execution_count": 87,
   "id": "163feb83",
   "metadata": {},
   "outputs": [
    {
     "data": {
      "text/plain": [
       "<Axes: >"
      ]
     },
     "execution_count": 87,
     "metadata": {},
     "output_type": "execute_result"
    },
    {
     "data": {
      "image/png": "[encoded data removed]",
      "text/plain": [
       "<Figure size 640x480 with 1 Axes>"
      ]
     },
     "metadata": {},
     "output_type": "display_data"
    }
   ],
   "source": [
    "sns.boxplot(data=df[\"Price\"])"
   ]
  },
  {
   "cell_type": "code",
   "execution_count": 91,
   "id": "490b1eec",
   "metadata": {},
   "outputs": [
    {
     "data": {
      "text/html": [
       "<div>\n",
       "<style scoped>\n",
       "    .dataframe tbody tr th:only-of-type {\n",
       "        vertical-align: middle;\n",
       "    }\n",
       "\n",
       "    .dataframe tbody tr th {\n",
       "        vertical-align: top;\n",
       "    }\n",
       "\n",
       "    .dataframe thead th {\n",
       "        text-align: right;\n",
       "    }\n",
       "</style>\n",
       "<table border=\"1\" class=\"dataframe\">\n",
       "  <thead>\n",
       "    <tr style=\"text-align: right;\">\n",
       "      <th></th>\n",
       "      <th>Location</th>\n",
       "      <th>Year</th>\n",
       "      <th>Kilometers_Driven</th>\n",
       "      <th>Fuel_Type</th>\n",
       "      <th>Transmission</th>\n",
       "      <th>Owner_Type</th>\n",
       "      <th>Mileage</th>\n",
       "      <th>Engine</th>\n",
       "      <th>Power</th>\n",
       "      <th>Seats</th>\n",
       "      <th>Price</th>\n",
       "      <th>Brand</th>\n",
       "    </tr>\n",
       "  </thead>\n",
       "  <tbody>\n",
       "    <tr>\n",
       "      <th>1463</th>\n",
       "      <td>Kochi</td>\n",
       "      <td>2019</td>\n",
       "      <td>26013</td>\n",
       "      <td>Diesel</td>\n",
       "      <td>Automatic</td>\n",
       "      <td>First</td>\n",
       "      <td>12.65</td>\n",
       "      <td>2993</td>\n",
       "      <td>203.00</td>\n",
       "      <td>5</td>\n",
       "      <td>97.07</td>\n",
       "      <td>Land</td>\n",
       "    </tr>\n",
       "    <tr>\n",
       "      <th>1926</th>\n",
       "      <td>Coimbatore</td>\n",
       "      <td>2018</td>\n",
       "      <td>28060</td>\n",
       "      <td>Petrol</td>\n",
       "      <td>Automatic</td>\n",
       "      <td>First</td>\n",
       "      <td>12.05</td>\n",
       "      <td>2979</td>\n",
       "      <td>203.00</td>\n",
       "      <td>5</td>\n",
       "      <td>93.67</td>\n",
       "      <td>BMW</td>\n",
       "    </tr>\n",
       "    <tr>\n",
       "      <th>1936</th>\n",
       "      <td>Bangalore</td>\n",
       "      <td>2017</td>\n",
       "      <td>17465</td>\n",
       "      <td>Petrol</td>\n",
       "      <td>Automatic</td>\n",
       "      <td>First</td>\n",
       "      <td>12.05</td>\n",
       "      <td>2979</td>\n",
       "      <td>203.00</td>\n",
       "      <td>5</td>\n",
       "      <td>93.00</td>\n",
       "      <td>BMW</td>\n",
       "    </tr>\n",
       "    <tr>\n",
       "      <th>5397</th>\n",
       "      <td>Ahmedabad</td>\n",
       "      <td>2015</td>\n",
       "      <td>97003</td>\n",
       "      <td>Diesel</td>\n",
       "      <td>Automatic</td>\n",
       "      <td>First</td>\n",
       "      <td>15.87</td>\n",
       "      <td>2993</td>\n",
       "      <td>203.00</td>\n",
       "      <td>5</td>\n",
       "      <td>85.00</td>\n",
       "      <td>BMW</td>\n",
       "    </tr>\n",
       "    <tr>\n",
       "      <th>2044</th>\n",
       "      <td>Coimbatore</td>\n",
       "      <td>2019</td>\n",
       "      <td>2526</td>\n",
       "      <td>Petrol</td>\n",
       "      <td>Automatic</td>\n",
       "      <td>First</td>\n",
       "      <td>19.00</td>\n",
       "      <td>2996</td>\n",
       "      <td>203.00</td>\n",
       "      <td>2</td>\n",
       "      <td>83.96</td>\n",
       "      <td>Mercedes-Benz</td>\n",
       "    </tr>\n",
       "    <tr>\n",
       "      <th>...</th>\n",
       "      <td>...</td>\n",
       "      <td>...</td>\n",
       "      <td>...</td>\n",
       "      <td>...</td>\n",
       "      <td>...</td>\n",
       "      <td>...</td>\n",
       "      <td>...</td>\n",
       "      <td>...</td>\n",
       "      <td>...</td>\n",
       "      <td>...</td>\n",
       "      <td>...</td>\n",
       "      <td>...</td>\n",
       "    </tr>\n",
       "    <tr>\n",
       "      <th>287</th>\n",
       "      <td>Chennai</td>\n",
       "      <td>2016</td>\n",
       "      <td>48000</td>\n",
       "      <td>Diesel</td>\n",
       "      <td>Manual</td>\n",
       "      <td>First</td>\n",
       "      <td>13.68</td>\n",
       "      <td>2393</td>\n",
       "      <td>147.80</td>\n",
       "      <td>7</td>\n",
       "      <td>20.25</td>\n",
       "      <td>Toyota</td>\n",
       "    </tr>\n",
       "    <tr>\n",
       "      <th>2499</th>\n",
       "      <td>Coimbatore</td>\n",
       "      <td>2017</td>\n",
       "      <td>65367</td>\n",
       "      <td>Diesel</td>\n",
       "      <td>Automatic</td>\n",
       "      <td>First</td>\n",
       "      <td>11.36</td>\n",
       "      <td>2755</td>\n",
       "      <td>171.50</td>\n",
       "      <td>7</td>\n",
       "      <td>20.14</td>\n",
       "      <td>Toyota</td>\n",
       "    </tr>\n",
       "    <tr>\n",
       "      <th>1866</th>\n",
       "      <td>Kochi</td>\n",
       "      <td>2014</td>\n",
       "      <td>62012</td>\n",
       "      <td>Diesel</td>\n",
       "      <td>Automatic</td>\n",
       "      <td>First</td>\n",
       "      <td>17.68</td>\n",
       "      <td>1968</td>\n",
       "      <td>174.33</td>\n",
       "      <td>5</td>\n",
       "      <td>20.12</td>\n",
       "      <td>Audi</td>\n",
       "    </tr>\n",
       "    <tr>\n",
       "      <th>5393</th>\n",
       "      <td>Kochi</td>\n",
       "      <td>2014</td>\n",
       "      <td>59885</td>\n",
       "      <td>Diesel</td>\n",
       "      <td>Automatic</td>\n",
       "      <td>First</td>\n",
       "      <td>12.39</td>\n",
       "      <td>2179</td>\n",
       "      <td>147.51</td>\n",
       "      <td>5</td>\n",
       "      <td>20.11</td>\n",
       "      <td>Land</td>\n",
       "    </tr>\n",
       "    <tr>\n",
       "      <th>2515</th>\n",
       "      <td>Coimbatore</td>\n",
       "      <td>2014</td>\n",
       "      <td>57773</td>\n",
       "      <td>Diesel</td>\n",
       "      <td>Automatic</td>\n",
       "      <td>Second</td>\n",
       "      <td>17.11</td>\n",
       "      <td>1968</td>\n",
       "      <td>174.33</td>\n",
       "      <td>5</td>\n",
       "      <td>20.04</td>\n",
       "      <td>Audi</td>\n",
       "    </tr>\n",
       "  </tbody>\n",
       "</table>\n",
       "<p>624 rows × 12 columns</p>\n",
       "</div>"
      ],
      "text/plain": [
       "        Location  Year  Kilometers_Driven Fuel_Type Transmission Owner_Type  \\\n",
       "1463       Kochi  2019              26013    Diesel    Automatic      First   \n",
       "1926  Coimbatore  2018              28060    Petrol    Automatic      First   \n",
       "1936   Bangalore  2017              17465    Petrol    Automatic      First   \n",
       "5397   Ahmedabad  2015              97003    Diesel    Automatic      First   \n",
       "2044  Coimbatore  2019               2526    Petrol    Automatic      First   \n",
       "...          ...   ...                ...       ...          ...        ...   \n",
       "287      Chennai  2016              48000    Diesel       Manual      First   \n",
       "2499  Coimbatore  2017              65367    Diesel    Automatic      First   \n",
       "1866       Kochi  2014              62012    Diesel    Automatic      First   \n",
       "5393       Kochi  2014              59885    Diesel    Automatic      First   \n",
       "2515  Coimbatore  2014              57773    Diesel    Automatic     Second   \n",
       "\n",
       "      Mileage  Engine   Power  Seats  Price          Brand  \n",
       "1463    12.65    2993  203.00      5  97.07           Land  \n",
       "1926    12.05    2979  203.00      5  93.67            BMW  \n",
       "1936    12.05    2979  203.00      5  93.00            BMW  \n",
       "5397    15.87    2993  203.00      5  85.00            BMW  \n",
       "2044    19.00    2996  203.00      2  83.96  Mercedes-Benz  \n",
       "...       ...     ...     ...    ...    ...            ...  \n",
       "287     13.68    2393  147.80      7  20.25         Toyota  \n",
       "2499    11.36    2755  171.50      7  20.14         Toyota  \n",
       "1866    17.68    1968  174.33      5  20.12           Audi  \n",
       "5393    12.39    2179  147.51      5  20.11           Land  \n",
       "2515    17.11    1968  174.33      5  20.04           Audi  \n",
       "\n",
       "[624 rows x 12 columns]"
      ]
     },
     "execution_count": 91,
     "metadata": {},
     "output_type": "execute_result"
    }
   ],
   "source": [
    "df[df[\"Price\"] > 20].sort_values(by=\"Price\", ascending=False)"
   ]
  },
  {
   "cell_type": "code",
   "execution_count": 93,
   "id": "90ee8d81",
   "metadata": {},
   "outputs": [],
   "source": [
    "import numpy as np\n",
    "from sklearn.neighbors import NearestNeighbors\n",
    "\n",
    "# Identify and handle outliers using k-NN\n",
    "def handle_outliers_knn(data, column_name, k=5, threshold=3):\n",
    "    # Extract the column with outliers\n",
    "    column = data[column_name].values.reshape(-1, 1)\n",
    "\n",
    "    # Fit a k-NN model\n",
    "    nbrs = NearestNeighbors(n_neighbors=k).fit(column)\n",
    "\n",
    "    # Calculate distances and indices of k nearest neighbors\n",
    "    distances, indices = nbrs.kneighbors(column)\n",
    "\n",
    "    # Calculate the mean distance for each data point\n",
    "    mean_distances = np.mean(distances, axis=1)\n",
    "\n",
    "    # Identify outliers based on mean distance and threshold\n",
    "    outlier_indices = np.where(mean_distances > threshold)[0]\n",
    "\n",
    "    # Handle outliers (e.g., replace with the median of k nearest neighbors)\n",
    "    for idx in outlier_indices:\n",
    "        neighbors = indices[idx][1:]  # Exclude the data point itself\n",
    "        median_neighbor_value = np.median(column[neighbors])\n",
    "        data.at[idx, column_name] = median_neighbor_value\n",
    "\n",
    "    return data\n",
    "\n",
    "# Apply the outlier handling function to the 'Power' column\n",
    "df_handled = handle_outliers_knn(df, \"Power\", k=5, threshold=3)\n",
    "\n",
    "# Now df_handled contains the DataFrame with outliers handled using k-NN\n"
   ]
  },
  {
   "cell_type": "code",
   "execution_count": 94,
   "id": "e9809500",
   "metadata": {},
   "outputs": [
    {
     "data": {
      "text/plain": [
       "<Axes: >"
      ]
     },
     "execution_count": 94,
     "metadata": {},
     "output_type": "execute_result"
    },
    {
     "data": {
      "image/png": "[encoded data removed]",
      "text/plain": [
       "<Figure size 640x480 with 1 Axes>"
      ]
     },
     "metadata": {},
     "output_type": "display_data"
    }
   ],
   "source": [
    "sns.boxplot(data=df[\"Price\"])"
   ]
  },
  {
   "cell_type": "code",
   "execution_count": 54,
   "id": "7e1328a9",
   "metadata": {},
   "outputs": [
    {
     "data": {
      "text/html": [
       "<div>\n",
       "<style scoped>\n",
       "    .dataframe tbody tr th:only-of-type {\n",
       "        vertical-align: middle;\n",
       "    }\n",
       "\n",
       "    .dataframe tbody tr th {\n",
       "        vertical-align: top;\n",
       "    }\n",
       "\n",
       "    .dataframe thead th {\n",
       "        text-align: right;\n",
       "    }\n",
       "</style>\n",
       "<table border=\"1\" class=\"dataframe\">\n",
       "  <thead>\n",
       "    <tr style=\"text-align: right;\">\n",
       "      <th></th>\n",
       "      <th>Year</th>\n",
       "      <th>Kilometers_Driven</th>\n",
       "      <th>Mileage</th>\n",
       "      <th>Engine</th>\n",
       "      <th>Power</th>\n",
       "      <th>Seats</th>\n",
       "      <th>Price</th>\n",
       "    </tr>\n",
       "  </thead>\n",
       "  <tbody>\n",
       "    <tr>\n",
       "      <th>count</th>\n",
       "      <td>5872.000000</td>\n",
       "      <td>5.872000e+03</td>\n",
       "      <td>5872.000000</td>\n",
       "      <td>5872.000000</td>\n",
       "      <td>5872.000000</td>\n",
       "      <td>5872.000000</td>\n",
       "      <td>5872.000000</td>\n",
       "    </tr>\n",
       "    <tr>\n",
       "      <th>mean</th>\n",
       "      <td>2013.477691</td>\n",
       "      <td>5.831700e+04</td>\n",
       "      <td>18.277839</td>\n",
       "      <td>1625.745572</td>\n",
       "      <td>113.276894</td>\n",
       "      <td>5.283719</td>\n",
       "      <td>9.603919</td>\n",
       "    </tr>\n",
       "    <tr>\n",
       "      <th>std</th>\n",
       "      <td>3.164568</td>\n",
       "      <td>9.216941e+04</td>\n",
       "      <td>4.365657</td>\n",
       "      <td>601.641783</td>\n",
       "      <td>53.881892</td>\n",
       "      <td>0.805081</td>\n",
       "      <td>11.249453</td>\n",
       "    </tr>\n",
       "    <tr>\n",
       "      <th>min</th>\n",
       "      <td>1998.000000</td>\n",
       "      <td>1.710000e+02</td>\n",
       "      <td>0.000000</td>\n",
       "      <td>624.000000</td>\n",
       "      <td>34.200000</td>\n",
       "      <td>2.000000</td>\n",
       "      <td>0.440000</td>\n",
       "    </tr>\n",
       "    <tr>\n",
       "      <th>25%</th>\n",
       "      <td>2012.000000</td>\n",
       "      <td>3.342250e+04</td>\n",
       "      <td>15.260000</td>\n",
       "      <td>1198.000000</td>\n",
       "      <td>75.000000</td>\n",
       "      <td>5.000000</td>\n",
       "      <td>3.517500</td>\n",
       "    </tr>\n",
       "    <tr>\n",
       "      <th>50%</th>\n",
       "      <td>2014.000000</td>\n",
       "      <td>5.260900e+04</td>\n",
       "      <td>18.200000</td>\n",
       "      <td>1495.500000</td>\n",
       "      <td>97.700000</td>\n",
       "      <td>5.000000</td>\n",
       "      <td>5.750000</td>\n",
       "    </tr>\n",
       "    <tr>\n",
       "      <th>75%</th>\n",
       "      <td>2016.000000</td>\n",
       "      <td>7.240275e+04</td>\n",
       "      <td>21.100000</td>\n",
       "      <td>1991.000000</td>\n",
       "      <td>138.100000</td>\n",
       "      <td>5.000000</td>\n",
       "      <td>10.000000</td>\n",
       "    </tr>\n",
       "    <tr>\n",
       "      <th>max</th>\n",
       "      <td>2019.000000</td>\n",
       "      <td>6.500000e+06</td>\n",
       "      <td>33.540000</td>\n",
       "      <td>5998.000000</td>\n",
       "      <td>560.000000</td>\n",
       "      <td>10.000000</td>\n",
       "      <td>160.000000</td>\n",
       "    </tr>\n",
       "  </tbody>\n",
       "</table>\n",
       "</div>"
      ],
      "text/plain": [
       "              Year  Kilometers_Driven      Mileage       Engine        Power  \\\n",
       "count  5872.000000       5.872000e+03  5872.000000  5872.000000  5872.000000   \n",
       "mean   2013.477691       5.831700e+04    18.277839  1625.745572   113.276894   \n",
       "std       3.164568       9.216941e+04     4.365657   601.641783    53.881892   \n",
       "min    1998.000000       1.710000e+02     0.000000   624.000000    34.200000   \n",
       "25%    2012.000000       3.342250e+04    15.260000  1198.000000    75.000000   \n",
       "50%    2014.000000       5.260900e+04    18.200000  1495.500000    97.700000   \n",
       "75%    2016.000000       7.240275e+04    21.100000  1991.000000   138.100000   \n",
       "max    2019.000000       6.500000e+06    33.540000  5998.000000   560.000000   \n",
       "\n",
       "             Seats        Price  \n",
       "count  5872.000000  5872.000000  \n",
       "mean      5.283719     9.603919  \n",
       "std       0.805081    11.249453  \n",
       "min       2.000000     0.440000  \n",
       "25%       5.000000     3.517500  \n",
       "50%       5.000000     5.750000  \n",
       "75%       5.000000    10.000000  \n",
       "max      10.000000   160.000000  "
      ]
     },
     "execution_count": 54,
     "metadata": {},
     "output_type": "execute_result"
    }
   ],
   "source": [
    "df.describe()"
   ]
  },
  {
   "cell_type": "code",
   "execution_count": 39,
   "id": "c9d7ada1",
   "metadata": {},
   "outputs": [],
   "source": [
    "idx = detect_outliers(df,0,num_cols)"
   ]
  },
  {
   "cell_type": "code",
   "execution_count": 40,
   "id": "97d612f0",
   "metadata": {},
   "outputs": [
    {
     "data": {
      "text/plain": [
       "0.2775885558583106"
      ]
     },
     "execution_count": 40,
     "metadata": {},
     "output_type": "execute_result"
    }
   ],
   "source": [
    "len(idx)/df.shape[0]"
   ]
  },
  {
   "cell_type": "code",
   "execution_count": 41,
   "id": "42f449be",
   "metadata": {},
   "outputs": [],
   "source": [
    "nonout_df=df[~df.index.isin(idx)]"
   ]
  },
  {
   "cell_type": "code",
   "execution_count": 42,
   "id": "7a08f9d4",
   "metadata": {},
   "outputs": [
    {
     "data": {
      "text/html": [
       "<div>\n",
       "<style scoped>\n",
       "    .dataframe tbody tr th:only-of-type {\n",
       "        vertical-align: middle;\n",
       "    }\n",
       "\n",
       "    .dataframe tbody tr th {\n",
       "        vertical-align: top;\n",
       "    }\n",
       "\n",
       "    .dataframe thead th {\n",
       "        text-align: right;\n",
       "    }\n",
       "</style>\n",
       "<table border=\"1\" class=\"dataframe\">\n",
       "  <thead>\n",
       "    <tr style=\"text-align: right;\">\n",
       "      <th></th>\n",
       "      <th>name</th>\n",
       "      <th>location</th>\n",
       "      <th>year</th>\n",
       "      <th>kilometers_driven</th>\n",
       "      <th>fuel_type</th>\n",
       "      <th>transmission</th>\n",
       "      <th>owner_type</th>\n",
       "      <th>mileage</th>\n",
       "      <th>engine</th>\n",
       "      <th>power</th>\n",
       "      <th>seats</th>\n",
       "      <th>price</th>\n",
       "      <th>brand</th>\n",
       "    </tr>\n",
       "  </thead>\n",
       "  <tbody>\n",
       "    <tr>\n",
       "      <th>3</th>\n",
       "      <td>Maruti Ertiga</td>\n",
       "      <td>Chennai</td>\n",
       "      <td>2012</td>\n",
       "      <td>87000</td>\n",
       "      <td>Diesel</td>\n",
       "      <td>Manual</td>\n",
       "      <td>First</td>\n",
       "      <td>20.77</td>\n",
       "      <td>1248</td>\n",
       "      <td>88.76</td>\n",
       "      <td>7</td>\n",
       "      <td>6.00</td>\n",
       "      <td>Maruti</td>\n",
       "    </tr>\n",
       "    <tr>\n",
       "      <th>7</th>\n",
       "      <td>Toyota Innova</td>\n",
       "      <td>Mumbai</td>\n",
       "      <td>2016</td>\n",
       "      <td>36000</td>\n",
       "      <td>Diesel</td>\n",
       "      <td>Automatic</td>\n",
       "      <td>First</td>\n",
       "      <td>11.36</td>\n",
       "      <td>2755</td>\n",
       "      <td>171.50</td>\n",
       "      <td>8</td>\n",
       "      <td>17.50</td>\n",
       "      <td>Toyota</td>\n",
       "    </tr>\n",
       "    <tr>\n",
       "      <th>13</th>\n",
       "      <td>Land Rover</td>\n",
       "      <td>Delhi</td>\n",
       "      <td>2014</td>\n",
       "      <td>72000</td>\n",
       "      <td>Diesel</td>\n",
       "      <td>Automatic</td>\n",
       "      <td>First</td>\n",
       "      <td>12.70</td>\n",
       "      <td>2179</td>\n",
       "      <td>187.70</td>\n",
       "      <td>5</td>\n",
       "      <td>27.00</td>\n",
       "      <td>Land</td>\n",
       "    </tr>\n",
       "    <tr>\n",
       "      <th>14</th>\n",
       "      <td>Land Rover</td>\n",
       "      <td>Pune</td>\n",
       "      <td>2012</td>\n",
       "      <td>85000</td>\n",
       "      <td>Diesel</td>\n",
       "      <td>Automatic</td>\n",
       "      <td>Second</td>\n",
       "      <td>0.00</td>\n",
       "      <td>2179</td>\n",
       "      <td>115.00</td>\n",
       "      <td>5</td>\n",
       "      <td>17.50</td>\n",
       "      <td>Land</td>\n",
       "    </tr>\n",
       "    <tr>\n",
       "      <th>15</th>\n",
       "      <td>Mitsubishi Pajero</td>\n",
       "      <td>Delhi</td>\n",
       "      <td>2014</td>\n",
       "      <td>110000</td>\n",
       "      <td>Diesel</td>\n",
       "      <td>Manual</td>\n",
       "      <td>First</td>\n",
       "      <td>13.50</td>\n",
       "      <td>2477</td>\n",
       "      <td>175.56</td>\n",
       "      <td>7</td>\n",
       "      <td>15.00</td>\n",
       "      <td>Mitsubishi</td>\n",
       "    </tr>\n",
       "    <tr>\n",
       "      <th>...</th>\n",
       "      <td>...</td>\n",
       "      <td>...</td>\n",
       "      <td>...</td>\n",
       "      <td>...</td>\n",
       "      <td>...</td>\n",
       "      <td>...</td>\n",
       "      <td>...</td>\n",
       "      <td>...</td>\n",
       "      <td>...</td>\n",
       "      <td>...</td>\n",
       "      <td>...</td>\n",
       "      <td>...</td>\n",
       "      <td>...</td>\n",
       "    </tr>\n",
       "    <tr>\n",
       "      <th>5861</th>\n",
       "      <td>Porsche Panamera</td>\n",
       "      <td>Hyderabad</td>\n",
       "      <td>2013</td>\n",
       "      <td>40000</td>\n",
       "      <td>Diesel</td>\n",
       "      <td>Automatic</td>\n",
       "      <td>Second</td>\n",
       "      <td>17.85</td>\n",
       "      <td>2967</td>\n",
       "      <td>300.00</td>\n",
       "      <td>4</td>\n",
       "      <td>45.00</td>\n",
       "      <td>Porsche</td>\n",
       "    </tr>\n",
       "    <tr>\n",
       "      <th>5862</th>\n",
       "      <td>Toyota Camry</td>\n",
       "      <td>Mumbai</td>\n",
       "      <td>2015</td>\n",
       "      <td>33500</td>\n",
       "      <td>Petrol</td>\n",
       "      <td>Automatic</td>\n",
       "      <td>First</td>\n",
       "      <td>19.16</td>\n",
       "      <td>2494</td>\n",
       "      <td>158.20</td>\n",
       "      <td>5</td>\n",
       "      <td>19.75</td>\n",
       "      <td>Toyota</td>\n",
       "    </tr>\n",
       "    <tr>\n",
       "      <th>5864</th>\n",
       "      <td>Skoda Superb</td>\n",
       "      <td>Hyderabad</td>\n",
       "      <td>2009</td>\n",
       "      <td>53000</td>\n",
       "      <td>Petrol</td>\n",
       "      <td>Automatic</td>\n",
       "      <td>First</td>\n",
       "      <td>0.00</td>\n",
       "      <td>3597</td>\n",
       "      <td>262.60</td>\n",
       "      <td>5</td>\n",
       "      <td>4.75</td>\n",
       "      <td>Skoda</td>\n",
       "    </tr>\n",
       "    <tr>\n",
       "      <th>5865</th>\n",
       "      <td>Toyota Innova</td>\n",
       "      <td>Coimbatore</td>\n",
       "      <td>2011</td>\n",
       "      <td>45004</td>\n",
       "      <td>Diesel</td>\n",
       "      <td>Manual</td>\n",
       "      <td>First</td>\n",
       "      <td>12.80</td>\n",
       "      <td>2494</td>\n",
       "      <td>102.00</td>\n",
       "      <td>7</td>\n",
       "      <td>9.48</td>\n",
       "      <td>Toyota</td>\n",
       "    </tr>\n",
       "    <tr>\n",
       "      <th>5869</th>\n",
       "      <td>Mahindra Xylo</td>\n",
       "      <td>Jaipur</td>\n",
       "      <td>2012</td>\n",
       "      <td>55000</td>\n",
       "      <td>Diesel</td>\n",
       "      <td>Manual</td>\n",
       "      <td>Second</td>\n",
       "      <td>14.00</td>\n",
       "      <td>2498</td>\n",
       "      <td>112.00</td>\n",
       "      <td>8</td>\n",
       "      <td>2.90</td>\n",
       "      <td>Mahindra</td>\n",
       "    </tr>\n",
       "  </tbody>\n",
       "</table>\n",
       "<p>1630 rows × 13 columns</p>\n",
       "</div>"
      ],
      "text/plain": [
       "                   name    location  year  kilometers_driven fuel_type  \\\n",
       "3         Maruti Ertiga     Chennai  2012              87000    Diesel   \n",
       "7         Toyota Innova      Mumbai  2016              36000    Diesel   \n",
       "13           Land Rover       Delhi  2014              72000    Diesel   \n",
       "14           Land Rover        Pune  2012              85000    Diesel   \n",
       "15    Mitsubishi Pajero       Delhi  2014             110000    Diesel   \n",
       "...                 ...         ...   ...                ...       ...   \n",
       "5861   Porsche Panamera   Hyderabad  2013              40000    Diesel   \n",
       "5862       Toyota Camry      Mumbai  2015              33500    Petrol   \n",
       "5864       Skoda Superb   Hyderabad  2009              53000    Petrol   \n",
       "5865      Toyota Innova  Coimbatore  2011              45004    Diesel   \n",
       "5869      Mahindra Xylo      Jaipur  2012              55000    Diesel   \n",
       "\n",
       "     transmission owner_type  mileage  engine   power  seats  price  \\\n",
       "3          Manual      First    20.77    1248   88.76      7   6.00   \n",
       "7       Automatic      First    11.36    2755  171.50      8  17.50   \n",
       "13      Automatic      First    12.70    2179  187.70      5  27.00   \n",
       "14      Automatic     Second     0.00    2179  115.00      5  17.50   \n",
       "15         Manual      First    13.50    2477  175.56      7  15.00   \n",
       "...           ...        ...      ...     ...     ...    ...    ...   \n",
       "5861    Automatic     Second    17.85    2967  300.00      4  45.00   \n",
       "5862    Automatic      First    19.16    2494  158.20      5  19.75   \n",
       "5864    Automatic      First     0.00    3597  262.60      5   4.75   \n",
       "5865       Manual      First    12.80    2494  102.00      7   9.48   \n",
       "5869       Manual     Second    14.00    2498  112.00      8   2.90   \n",
       "\n",
       "           brand  \n",
       "3         Maruti  \n",
       "7         Toyota  \n",
       "13          Land  \n",
       "14          Land  \n",
       "15    Mitsubishi  \n",
       "...          ...  \n",
       "5861     Porsche  \n",
       "5862      Toyota  \n",
       "5864       Skoda  \n",
       "5865      Toyota  \n",
       "5869    Mahindra  \n",
       "\n",
       "[1630 rows x 13 columns]"
      ]
     },
     "execution_count": 42,
     "metadata": {},
     "output_type": "execute_result"
    }
   ],
   "source": [
    "df[df.index.isin(idx)]"
   ]
  },
  {
   "cell_type": "code",
   "execution_count": 43,
   "id": "c5a96f2b",
   "metadata": {},
   "outputs": [],
   "source": [
    "for col in num_cols:\n",
    "    df.loc[df.index.isin(idx),col]=nonout_df[col].mean()"
   ]
  },
  {
   "cell_type": "code",
   "execution_count": 44,
   "id": "298872b6",
   "metadata": {},
   "outputs": [
    {
     "name": "stdout",
     "output_type": "stream",
     "text": [
      "<class 'pandas.core.frame.DataFrame'>\n",
      "RangeIndex: 5872 entries, 0 to 5871\n",
      "Data columns (total 13 columns):\n",
      " #   Column             Non-Null Count  Dtype  \n",
      "---  ------             --------------  -----  \n",
      " 0   name               5872 non-null   object \n",
      " 1   location           5872 non-null   object \n",
      " 2   year               5872 non-null   int64  \n",
      " 3   kilometers_driven  5872 non-null   float64\n",
      " 4   fuel_type          5872 non-null   object \n",
      " 5   transmission       5872 non-null   object \n",
      " 6   owner_type         5872 non-null   object \n",
      " 7   mileage            5872 non-null   float64\n",
      " 8   engine             5872 non-null   float64\n",
      " 9   power              5872 non-null   float64\n",
      " 10  seats              5872 non-null   int64  \n",
      " 11  price              5872 non-null   float64\n",
      " 12  brand              5872 non-null   object \n",
      "dtypes: float64(5), int64(2), object(6)\n",
      "memory usage: 596.5+ KB\n"
     ]
    }
   ],
   "source": [
    "df.info()"
   ]
  },
  {
   "cell_type": "code",
   "execution_count": 45,
   "id": "471c1189",
   "metadata": {},
   "outputs": [
    {
     "data": {
      "text/plain": [
       "Index(['name', 'location', 'year', 'kilometers_driven', 'fuel_type',\n",
       "       'transmission', 'owner_type', 'mileage', 'engine', 'power', 'seats',\n",
       "       'price', 'brand'],\n",
       "      dtype='object')"
      ]
     },
     "execution_count": 45,
     "metadata": {},
     "output_type": "execute_result"
    }
   ],
   "source": [
    "df.columns"
   ]
  },
  {
   "cell_type": "code",
   "execution_count": 46,
   "id": "c7f84367",
   "metadata": {},
   "outputs": [
    {
     "data": {
      "text/plain": [
       "<Axes: xlabel='price', ylabel='location'>"
      ]
     },
     "execution_count": 46,
     "metadata": {},
     "output_type": "execute_result"
    },
    {
     "data": {
      "image/png": "[encoded data removed]",
      "text/plain": [
       "<Figure size 640x480 with 1 Axes>"
      ]
     },
     "metadata": {},
     "output_type": "display_data"
    }
   ],
   "source": [
    "sns.boxplot(y='location',x='price',data=df)"
   ]
  },
  {
   "cell_type": "code",
   "execution_count": 47,
   "id": "31a7f332",
   "metadata": {},
   "outputs": [
    {
     "data": {
      "text/plain": [
       "<Axes: xlabel='price', ylabel='year'>"
      ]
     },
     "execution_count": 47,
     "metadata": {},
     "output_type": "execute_result"
    },
    {
     "data": {
      "image/png": "[encoded data removed]",
      "text/plain": [
       "<Figure size 640x480 with 1 Axes>"
      ]
     },
     "metadata": {},
     "output_type": "display_data"
    }
   ],
   "source": [
    "sns.boxplot(y=df.year,x=df.price)"
   ]
  },
  {
   "cell_type": "code",
   "execution_count": 59,
   "id": "0fb0f7e9",
   "metadata": {},
   "outputs": [
    {
     "data": {
      "text/plain": [
       "Index(['year', 'kilometers_driven', 'owner_type', 'mileage', 'engine', 'power',\n",
       "       'seats', 'price', 'location_Bangalore', 'location_Chennai',\n",
       "       'location_Coimbatore', 'location_Delhi', 'location_Hyderabad',\n",
       "       'location_Jaipur', 'location_Kochi', 'location_Kolkata',\n",
       "       'location_Mumbai', 'location_Pune', 'fuel_type_Diesel', 'fuel_type_LPG',\n",
       "       'fuel_type_Petrol', 'transmission_Manual', 'brand_Audi', 'brand_BMW',\n",
       "       'brand_Bentley', 'brand_Chevrolet', 'brand_Datsun', 'brand_Fiat',\n",
       "       'brand_Force', 'brand_Ford', 'brand_Honda', 'brand_Hyundai',\n",
       "       'brand_ISUZU', 'brand_Isuzu', 'brand_Jaguar', 'brand_Jeep',\n",
       "       'brand_Lamborghini', 'brand_Land', 'brand_Mahindra', 'brand_Maruti',\n",
       "       'brand_Mercedes-Benz', 'brand_Mini', 'brand_Mitsubishi', 'brand_Nissan',\n",
       "       'brand_Porsche', 'brand_Renault', 'brand_Skoda', 'brand_Tata',\n",
       "       'brand_Toyota', 'brand_Volkswagen', 'brand_Volvo'],\n",
       "      dtype='object')"
      ]
     },
     "execution_count": 59,
     "metadata": {},
     "output_type": "execute_result"
    }
   ],
   "source": [
    "df.columns"
   ]
  },
  {
   "cell_type": "code",
   "execution_count": 66,
   "id": "bd96b3d1",
   "metadata": {},
   "outputs": [
    {
     "data": {
      "text/html": [
       "<style>#sk-container-id-1 {color: black;background-color: white;}#sk-container-id-1 pre{padding: 0;}#sk-container-id-1 div.sk-toggleable {background-color: white;}#sk-container-id-1 label.sk-toggleable__label {cursor: pointer;display: block;width: 100%;margin-bottom: 0;padding: 0.3em;box-sizing: border-box;text-align: center;}#sk-container-id-1 label.sk-toggleable__label-arrow:before {content: \"▸\";float: left;margin-right: 0.25em;color: #696969;}#sk-container-id-1 label.sk-toggleable__label-arrow:hover:before {color: black;}#sk-container-id-1 div.sk-estimator:hover label.sk-toggleable__label-arrow:before {color: black;}#sk-container-id-1 div.sk-toggleable__content {max-height: 0;max-width: 0;overflow: hidden;text-align: left;background-color: #f0f8ff;}#sk-container-id-1 div.sk-toggleable__content pre {margin: 0.2em;color: black;border-radius: 0.25em;background-color: #f0f8ff;}#sk-container-id-1 input.sk-toggleable__control:checked~div.sk-toggleable__content {max-height: 200px;max-width: 100%;overflow: auto;}#sk-container-id-1 input.sk-toggleable__control:checked~label.sk-toggleable__label-arrow:before {content: \"▾\";}#sk-container-id-1 div.sk-estimator input.sk-toggleable__control:checked~label.sk-toggleable__label {background-color: #d4ebff;}#sk-container-id-1 div.sk-label input.sk-toggleable__control:checked~label.sk-toggleable__label {background-color: #d4ebff;}#sk-container-id-1 input.sk-hidden--visually {border: 0;clip: rect(1px 1px 1px 1px);clip: rect(1px, 1px, 1px, 1px);height: 1px;margin: -1px;overflow: hidden;padding: 0;position: absolute;width: 1px;}#sk-container-id-1 div.sk-estimator {font-family: monospace;background-color: #f0f8ff;border: 1px dotted black;border-radius: 0.25em;box-sizing: border-box;margin-bottom: 0.5em;}#sk-container-id-1 div.sk-estimator:hover {background-color: #d4ebff;}#sk-container-id-1 div.sk-parallel-item::after {content: \"\";width: 100%;border-bottom: 1px solid gray;flex-grow: 1;}#sk-container-id-1 div.sk-label:hover label.sk-toggleable__label {background-color: #d4ebff;}#sk-container-id-1 div.sk-serial::before {content: \"\";position: absolute;border-left: 1px solid gray;box-sizing: border-box;top: 0;bottom: 0;left: 50%;z-index: 0;}#sk-container-id-1 div.sk-serial {display: flex;flex-direction: column;align-items: center;background-color: white;padding-right: 0.2em;padding-left: 0.2em;position: relative;}#sk-container-id-1 div.sk-item {position: relative;z-index: 1;}#sk-container-id-1 div.sk-parallel {display: flex;align-items: stretch;justify-content: center;background-color: white;position: relative;}#sk-container-id-1 div.sk-item::before, #sk-container-id-1 div.sk-parallel-item::before {content: \"\";position: absolute;border-left: 1px solid gray;box-sizing: border-box;top: 0;bottom: 0;left: 50%;z-index: -1;}#sk-container-id-1 div.sk-parallel-item {display: flex;flex-direction: column;z-index: 1;position: relative;background-color: white;}#sk-container-id-1 div.sk-parallel-item:first-child::after {align-self: flex-end;width: 50%;}#sk-container-id-1 div.sk-parallel-item:last-child::after {align-self: flex-start;width: 50%;}#sk-container-id-1 div.sk-parallel-item:only-child::after {width: 0;}#sk-container-id-1 div.sk-dashed-wrapped {border: 1px dashed gray;margin: 0 0.4em 0.5em 0.4em;box-sizing: border-box;padding-bottom: 0.4em;background-color: white;}#sk-container-id-1 div.sk-label label {font-family: monospace;font-weight: bold;display: inline-block;line-height: 1.2em;}#sk-container-id-1 div.sk-label-container {text-align: center;}#sk-container-id-1 div.sk-container {/* jupyter's `normalize.less` sets `[hidden] { display: none; }` but bootstrap.min.css set `[hidden] { display: none !important; }` so we also need the `!important` here to be able to override the default hidden behavior on the sphinx rendered scikit-learn.org. See: https://github.com/scikit-learn/scikit-learn/issues/21755 */display: inline-block !important;position: relative;}#sk-container-id-1 div.sk-text-repr-fallback {display: none;}</style><div id=\"sk-container-id-1\" class=\"sk-top-container\"><div class=\"sk-text-repr-fallback\"><pre>LinearRegression()</pre><b>In a Jupyter environment, please rerun this cell to show the HTML representation or trust the notebook. <br />On GitHub, the HTML representation is unable to render, please try loading this page with nbviewer.org.</b></div><div class=\"sk-container\" hidden><div class=\"sk-item\"><div class=\"sk-estimator sk-toggleable\"><input class=\"sk-toggleable__control sk-hidden--visually\" id=\"sk-estimator-id-1\" type=\"checkbox\" checked><label for=\"sk-estimator-id-1\" class=\"sk-toggleable__label sk-toggleable__label-arrow\">LinearRegression</label><div class=\"sk-toggleable__content\"><pre>LinearRegression()</pre></div></div></div></div></div>"
      ],
      "text/plain": [
       "LinearRegression()"
      ]
     },
     "execution_count": 66,
     "metadata": {},
     "output_type": "execute_result"
    }
   ],
   "source": [
    "model_lr=LinearRegression()\n",
    "model_lr.fit(x_train,y_train)"
   ]
  },
  {
   "cell_type": "code",
   "execution_count": 67,
   "id": "940b7655",
   "metadata": {},
   "outputs": [
    {
     "data": {
      "text/plain": [
       "0.6944858377644659"
      ]
     },
     "execution_count": 67,
     "metadata": {},
     "output_type": "execute_result"
    }
   ],
   "source": [
    "model_lr.score(x_train,y_train)"
   ]
  },
  {
   "cell_type": "code",
   "execution_count": 68,
   "id": "f62ca02c",
   "metadata": {},
   "outputs": [
    {
     "data": {
      "text/plain": [
       "0.6832232881765267"
      ]
     },
     "execution_count": 68,
     "metadata": {},
     "output_type": "execute_result"
    }
   ],
   "source": [
    "model_lr.score(x_test,y_test)"
   ]
  },
  {
   "cell_type": "markdown",
   "id": "6f63a4e0",
   "metadata": {},
   "source": [
    "## KNN"
   ]
  },
  {
   "cell_type": "code",
   "execution_count": 71,
   "id": "f0b86da7",
   "metadata": {},
   "outputs": [
    {
     "data": {
      "text/plain": [
       "0.9139341816414561"
      ]
     },
     "execution_count": 71,
     "metadata": {},
     "output_type": "execute_result"
    }
   ],
   "source": [
    "model_knn.score(x_train,y_train)"
   ]
  },
  {
   "cell_type": "code",
   "execution_count": 72,
   "id": "f240356a",
   "metadata": {},
   "outputs": [
    {
     "data": {
      "text/plain": [
       "0.8251655487676345"
      ]
     },
     "execution_count": 72,
     "metadata": {},
     "output_type": "execute_result"
    }
   ],
   "source": [
    "model_knn.score(x_test,y_test)"
   ]
  },
  {
   "cell_type": "markdown",
   "id": "ef931157",
   "metadata": {},
   "source": [
    "## `Save model`"
   ]
  },
  {
   "cell_type": "code",
   "execution_count": 73,
   "id": "65e4971b",
   "metadata": {},
   "outputs": [
    {
     "data": {
      "text/plain": [
       "['model_knn.h5']"
      ]
     },
     "execution_count": 73,
     "metadata": {},
     "output_type": "execute_result"
    }
   ],
   "source": [
    "joblib.dump(model_knn,'model_knn.h5')"
   ]
  },
  {
   "cell_type": "code",
   "execution_count": 74,
   "id": "b77588cb",
   "metadata": {},
   "outputs": [
    {
     "data": {
      "text/plain": [
       "['scaler.h5']"
      ]
     },
     "execution_count": 74,
     "metadata": {},
     "output_type": "execute_result"
    }
   ],
   "source": [
    "joblib.dump(scaler,'scaler.h5')"
   ]
  },
  {
   "cell_type": "code",
   "execution_count": 77,
   "id": "def6011a",
   "metadata": {},
   "outputs": [],
   "source": [
    "features=list(x.columns)"
   ]
  },
  {
   "cell_type": "code",
   "execution_count": 78,
   "id": "7730f086",
   "metadata": {},
   "outputs": [
    {
     "data": {
      "text/plain": [
       "['features.h5']"
      ]
     },
     "execution_count": 78,
     "metadata": {},
     "output_type": "execute_result"
    }
   ],
   "source": [
    "joblib.dump(features,'features.h5')"
   ]
  }
 ],
 "metadata": {
  "kernelspec": {
   "display_name": "Python 3 (ipykernel)",
   "language": "python",
   "name": "python3"
  },
  "language_info": {
   "codemirror_mode": {
    "name": "ipython",
    "version": 3
   },
   "file_extension": ".py",
   "mimetype": "text/x-python",
   "name": "python",
   "nbconvert_exporter": "python",
   "pygments_lexer": "ipython3",
   "version": "3.9.0"
  }
 },
 "nbformat": 4,
 "nbformat_minor": 5
}
